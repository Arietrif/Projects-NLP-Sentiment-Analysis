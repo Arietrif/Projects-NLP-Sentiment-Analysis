{
  "cells": [
    {
      "cell_type": "markdown",
      "source": [
        "## **# 2019 Presidential Election : Public Opinion Tweet Sentiment Analysis**\n",
        "\n",
        "Given the 2019 presidential election's tweet data of public opinion, this project consist of :\n",
        "1. Experimenting with varieties of preprocessing and vectorization technique\n",
        "2. Testing the Random Forest & LSTM algorithm\n",
        "3. Optimizing (Hyperparameter Tuning)\n",
        "4. Evaluating and conclude which algorithms is the best performing"
      ],
      "metadata": {
        "id": "5ir0WBNis5Cw"
      },
      "id": "5ir0WBNis5Cw"
    },
    {
      "cell_type": "markdown",
      "source": [
        "# **1. Initialization**"
      ],
      "metadata": {
        "id": "1hChRbpMkteQ"
      },
      "id": "1hChRbpMkteQ"
    },
    {
      "cell_type": "markdown",
      "source": [
        "## **1.1 Load Libraries**"
      ],
      "metadata": {
        "id": "UraClDegk4cl"
      },
      "id": "UraClDegk4cl"
    },
    {
      "cell_type": "code",
      "source": [
        "!pip install Sastrawi"
      ],
      "metadata": {
        "colab": {
          "base_uri": "https://localhost:8080/"
        },
        "id": "dEQdRXEbkOyp",
        "outputId": "fc94ce09-70ed-40cf-9fcc-2302e9203972"
      },
      "id": "dEQdRXEbkOyp",
      "execution_count": 1,
      "outputs": [
        {
          "output_type": "stream",
          "name": "stdout",
          "text": [
            "Requirement already satisfied: Sastrawi in /usr/local/lib/python3.10/dist-packages (1.0.1)\n"
          ]
        }
      ]
    },
    {
      "cell_type": "code",
      "execution_count": 2,
      "id": "5ff79149",
      "metadata": {
        "id": "5ff79149"
      },
      "outputs": [],
      "source": [
        "# Load libraries\n",
        "import os\n",
        "import numpy as np\n",
        "import pandas as pd\n",
        "import nltk\n",
        "from nltk.corpus import stopwords\n",
        "from sklearn.feature_extraction.text import TfidfVectorizer\n",
        "from sklearn.ensemble import RandomForestClassifier\n",
        "from sklearn.metrics import classification_report, confusion_matrix\n",
        "from sklearn.metrics import accuracy_score\n",
        "from sklearn.feature_extraction.text import CountVectorizer\n",
        "from sklearn.preprocessing import LabelEncoder\n",
        "from sklearn.model_selection import train_test_split\n",
        "from tensorflow.keras.preprocessing.sequence import pad_sequences\n",
        "from keras.preprocessing.text import Tokenizer\n",
        "from keras.models import Sequential\n",
        "from keras.models import Model\n",
        "from keras.layers import LSTM, Activation, Dense, Dropout, Input, Embedding\n",
        "from keras.utils.np_utils import to_categorical\n",
        "from keras.optimizers import Adam\n",
        "from keras.callbacks import ReduceLROnPlateau, EarlyStopping\n",
        "from tqdm import tqdm\n",
        "from ast import literal_eval\n",
        "from Sastrawi.Stemmer.StemmerFactory import StemmerFactory"
      ]
    },
    {
      "cell_type": "code",
      "source": [
        "# Set pandas progress bar\n",
        "tqdm.pandas()"
      ],
      "metadata": {
        "id": "cgKhOwzJlc3A"
      },
      "id": "cgKhOwzJlc3A",
      "execution_count": 3,
      "outputs": []
    },
    {
      "cell_type": "markdown",
      "source": [
        "## **1.2 Read Dataset**"
      ],
      "metadata": {
        "id": "8YTp75RPlXM1"
      },
      "id": "8YTp75RPlXM1"
    },
    {
      "cell_type": "code",
      "execution_count": 4,
      "id": "8cc06483",
      "metadata": {
        "colab": {
          "base_uri": "https://localhost:8080/",
          "height": 206
        },
        "id": "8cc06483",
        "outputId": "3698f729-e931-4ec1-b815-b443a745c5e3"
      },
      "outputs": [
        {
          "output_type": "execute_result",
          "data": {
            "text/plain": [
              "   row_num sentimen                                              tweet\n",
              "0        0  negatif  Kata @prabowo Indonesia tidak dihargai bangsa ...\n",
              "1        1   netral  Batuan Langka, Tasbih Jokowi Hadiah dari Habib...\n",
              "2        2   netral  Di era Jokowi, ekonomi Indonesia semakin baik....\n",
              "3        3  positif  Bagi Sumatera Selatan, Asian Games berdampak p...\n",
              "4        4  negatif  Negara kita ngutang buat bngun infrastruktur y..."
            ],
            "text/html": [
              "\n",
              "\n",
              "  <div id=\"df-9a010e83-c888-4cb4-bf44-b36211944e36\">\n",
              "    <div class=\"colab-df-container\">\n",
              "      <div>\n",
              "<style scoped>\n",
              "    .dataframe tbody tr th:only-of-type {\n",
              "        vertical-align: middle;\n",
              "    }\n",
              "\n",
              "    .dataframe tbody tr th {\n",
              "        vertical-align: top;\n",
              "    }\n",
              "\n",
              "    .dataframe thead th {\n",
              "        text-align: right;\n",
              "    }\n",
              "</style>\n",
              "<table border=\"1\" class=\"dataframe\">\n",
              "  <thead>\n",
              "    <tr style=\"text-align: right;\">\n",
              "      <th></th>\n",
              "      <th>row_num</th>\n",
              "      <th>sentimen</th>\n",
              "      <th>tweet</th>\n",
              "    </tr>\n",
              "  </thead>\n",
              "  <tbody>\n",
              "    <tr>\n",
              "      <th>0</th>\n",
              "      <td>0</td>\n",
              "      <td>negatif</td>\n",
              "      <td>Kata @prabowo Indonesia tidak dihargai bangsa ...</td>\n",
              "    </tr>\n",
              "    <tr>\n",
              "      <th>1</th>\n",
              "      <td>1</td>\n",
              "      <td>netral</td>\n",
              "      <td>Batuan Langka, Tasbih Jokowi Hadiah dari Habib...</td>\n",
              "    </tr>\n",
              "    <tr>\n",
              "      <th>2</th>\n",
              "      <td>2</td>\n",
              "      <td>netral</td>\n",
              "      <td>Di era Jokowi, ekonomi Indonesia semakin baik....</td>\n",
              "    </tr>\n",
              "    <tr>\n",
              "      <th>3</th>\n",
              "      <td>3</td>\n",
              "      <td>positif</td>\n",
              "      <td>Bagi Sumatera Selatan, Asian Games berdampak p...</td>\n",
              "    </tr>\n",
              "    <tr>\n",
              "      <th>4</th>\n",
              "      <td>4</td>\n",
              "      <td>negatif</td>\n",
              "      <td>Negara kita ngutang buat bngun infrastruktur y...</td>\n",
              "    </tr>\n",
              "  </tbody>\n",
              "</table>\n",
              "</div>\n",
              "      <button class=\"colab-df-convert\" onclick=\"convertToInteractive('df-9a010e83-c888-4cb4-bf44-b36211944e36')\"\n",
              "              title=\"Convert this dataframe to an interactive table.\"\n",
              "              style=\"display:none;\">\n",
              "\n",
              "  <svg xmlns=\"http://www.w3.org/2000/svg\" height=\"24px\"viewBox=\"0 0 24 24\"\n",
              "       width=\"24px\">\n",
              "    <path d=\"M0 0h24v24H0V0z\" fill=\"none\"/>\n",
              "    <path d=\"M18.56 5.44l.94 2.06.94-2.06 2.06-.94-2.06-.94-.94-2.06-.94 2.06-2.06.94zm-11 1L8.5 8.5l.94-2.06 2.06-.94-2.06-.94L8.5 2.5l-.94 2.06-2.06.94zm10 10l.94 2.06.94-2.06 2.06-.94-2.06-.94-.94-2.06-.94 2.06-2.06.94z\"/><path d=\"M17.41 7.96l-1.37-1.37c-.4-.4-.92-.59-1.43-.59-.52 0-1.04.2-1.43.59L10.3 9.45l-7.72 7.72c-.78.78-.78 2.05 0 2.83L4 21.41c.39.39.9.59 1.41.59.51 0 1.02-.2 1.41-.59l7.78-7.78 2.81-2.81c.8-.78.8-2.07 0-2.86zM5.41 20L4 18.59l7.72-7.72 1.47 1.35L5.41 20z\"/>\n",
              "  </svg>\n",
              "      </button>\n",
              "\n",
              "\n",
              "\n",
              "    <div id=\"df-25b2e7e8-7371-45b1-953f-06f4d07e0519\">\n",
              "      <button class=\"colab-df-quickchart\" onclick=\"quickchart('df-25b2e7e8-7371-45b1-953f-06f4d07e0519')\"\n",
              "              title=\"Suggest charts.\"\n",
              "              style=\"display:none;\">\n",
              "\n",
              "<svg xmlns=\"http://www.w3.org/2000/svg\" height=\"24px\"viewBox=\"0 0 24 24\"\n",
              "     width=\"24px\">\n",
              "    <g>\n",
              "        <path d=\"M19 3H5c-1.1 0-2 .9-2 2v14c0 1.1.9 2 2 2h14c1.1 0 2-.9 2-2V5c0-1.1-.9-2-2-2zM9 17H7v-7h2v7zm4 0h-2V7h2v10zm4 0h-2v-4h2v4z\"/>\n",
              "    </g>\n",
              "</svg>\n",
              "      </button>\n",
              "    </div>\n",
              "\n",
              "<style>\n",
              "  .colab-df-quickchart {\n",
              "    background-color: #E8F0FE;\n",
              "    border: none;\n",
              "    border-radius: 50%;\n",
              "    cursor: pointer;\n",
              "    display: none;\n",
              "    fill: #1967D2;\n",
              "    height: 32px;\n",
              "    padding: 0 0 0 0;\n",
              "    width: 32px;\n",
              "  }\n",
              "\n",
              "  .colab-df-quickchart:hover {\n",
              "    background-color: #E2EBFA;\n",
              "    box-shadow: 0px 1px 2px rgba(60, 64, 67, 0.3), 0px 1px 3px 1px rgba(60, 64, 67, 0.15);\n",
              "    fill: #174EA6;\n",
              "  }\n",
              "\n",
              "  [theme=dark] .colab-df-quickchart {\n",
              "    background-color: #3B4455;\n",
              "    fill: #D2E3FC;\n",
              "  }\n",
              "\n",
              "  [theme=dark] .colab-df-quickchart:hover {\n",
              "    background-color: #434B5C;\n",
              "    box-shadow: 0px 1px 3px 1px rgba(0, 0, 0, 0.15);\n",
              "    filter: drop-shadow(0px 1px 2px rgba(0, 0, 0, 0.3));\n",
              "    fill: #FFFFFF;\n",
              "  }\n",
              "</style>\n",
              "\n",
              "    <script>\n",
              "      async function quickchart(key) {\n",
              "        const containerElement = document.querySelector('#' + key);\n",
              "        const charts = await google.colab.kernel.invokeFunction(\n",
              "            'suggestCharts', [key], {});\n",
              "      }\n",
              "    </script>\n",
              "\n",
              "      <script>\n",
              "\n",
              "function displayQuickchartButton(domScope) {\n",
              "  let quickchartButtonEl =\n",
              "    domScope.querySelector('#df-25b2e7e8-7371-45b1-953f-06f4d07e0519 button.colab-df-quickchart');\n",
              "  quickchartButtonEl.style.display =\n",
              "    google.colab.kernel.accessAllowed ? 'block' : 'none';\n",
              "}\n",
              "\n",
              "        displayQuickchartButton(document);\n",
              "      </script>\n",
              "      <style>\n",
              "    .colab-df-container {\n",
              "      display:flex;\n",
              "      flex-wrap:wrap;\n",
              "      gap: 12px;\n",
              "    }\n",
              "\n",
              "    .colab-df-convert {\n",
              "      background-color: #E8F0FE;\n",
              "      border: none;\n",
              "      border-radius: 50%;\n",
              "      cursor: pointer;\n",
              "      display: none;\n",
              "      fill: #1967D2;\n",
              "      height: 32px;\n",
              "      padding: 0 0 0 0;\n",
              "      width: 32px;\n",
              "    }\n",
              "\n",
              "    .colab-df-convert:hover {\n",
              "      background-color: #E2EBFA;\n",
              "      box-shadow: 0px 1px 2px rgba(60, 64, 67, 0.3), 0px 1px 3px 1px rgba(60, 64, 67, 0.15);\n",
              "      fill: #174EA6;\n",
              "    }\n",
              "\n",
              "    [theme=dark] .colab-df-convert {\n",
              "      background-color: #3B4455;\n",
              "      fill: #D2E3FC;\n",
              "    }\n",
              "\n",
              "    [theme=dark] .colab-df-convert:hover {\n",
              "      background-color: #434B5C;\n",
              "      box-shadow: 0px 1px 3px 1px rgba(0, 0, 0, 0.15);\n",
              "      filter: drop-shadow(0px 1px 2px rgba(0, 0, 0, 0.3));\n",
              "      fill: #FFFFFF;\n",
              "    }\n",
              "  </style>\n",
              "\n",
              "      <script>\n",
              "        const buttonEl =\n",
              "          document.querySelector('#df-9a010e83-c888-4cb4-bf44-b36211944e36 button.colab-df-convert');\n",
              "        buttonEl.style.display =\n",
              "          google.colab.kernel.accessAllowed ? 'block' : 'none';\n",
              "\n",
              "        async function convertToInteractive(key) {\n",
              "          const element = document.querySelector('#df-9a010e83-c888-4cb4-bf44-b36211944e36');\n",
              "          const dataTable =\n",
              "            await google.colab.kernel.invokeFunction('convertToInteractive',\n",
              "                                                     [key], {});\n",
              "          if (!dataTable) return;\n",
              "\n",
              "          const docLinkHtml = 'Like what you see? Visit the ' +\n",
              "            '<a target=\"_blank\" href=https://colab.research.google.com/notebooks/data_table.ipynb>data table notebook</a>'\n",
              "            + ' to learn more about interactive tables.';\n",
              "          element.innerHTML = '';\n",
              "          dataTable['output_type'] = 'display_data';\n",
              "          await google.colab.output.renderOutput(dataTable, element);\n",
              "          const docLink = document.createElement('div');\n",
              "          docLink.innerHTML = docLinkHtml;\n",
              "          element.appendChild(docLink);\n",
              "        }\n",
              "      </script>\n",
              "    </div>\n",
              "  </div>\n"
            ]
          },
          "metadata": {},
          "execution_count": 4
        }
      ],
      "source": [
        "dataset_token = 'GHSAT0AAAAAACFAZZWZGG2JL4MHWMWHK7MIZFTETYA'\n",
        "dataset_url = 'https://raw.githubusercontent.com/Arietrif/Projects-NLP-Sentiment-Analysis/main/tweet.csv?token='+dataset_token\n",
        "\n",
        "raw_data = pd.read_csv(dataset_url)\n",
        "raw_data.columns = ['row_num', 'sentimen', 'tweet']\n",
        "raw_data.head(5)"
      ]
    },
    {
      "cell_type": "code",
      "source": [
        "raw_data.info()"
      ],
      "metadata": {
        "colab": {
          "base_uri": "https://localhost:8080/"
        },
        "id": "_MD0a6iNmr2I",
        "outputId": "7df24f34-e4da-4e8b-89e0-0a89e1979358"
      },
      "id": "_MD0a6iNmr2I",
      "execution_count": 5,
      "outputs": [
        {
          "output_type": "stream",
          "name": "stdout",
          "text": [
            "<class 'pandas.core.frame.DataFrame'>\n",
            "RangeIndex: 1815 entries, 0 to 1814\n",
            "Data columns (total 3 columns):\n",
            " #   Column    Non-Null Count  Dtype \n",
            "---  ------    --------------  ----- \n",
            " 0   row_num   1815 non-null   int64 \n",
            " 1   sentimen  1815 non-null   object\n",
            " 2   tweet     1815 non-null   object\n",
            "dtypes: int64(1), object(2)\n",
            "memory usage: 42.7+ KB\n"
          ]
        }
      ]
    },
    {
      "cell_type": "code",
      "source": [
        "raw_data['sentimen'].value_counts()"
      ],
      "metadata": {
        "colab": {
          "base_uri": "https://localhost:8080/"
        },
        "id": "BagMpwGOmvCF",
        "outputId": "6e9e0cbe-d23c-4548-a81d-bc3b53b0eb9e"
      },
      "id": "BagMpwGOmvCF",
      "execution_count": 6,
      "outputs": [
        {
          "output_type": "execute_result",
          "data": {
            "text/plain": [
              "positif    612\n",
              "netral     607\n",
              "negatif    596\n",
              "Name: sentimen, dtype: int64"
            ]
          },
          "metadata": {},
          "execution_count": 6
        }
      ]
    },
    {
      "cell_type": "code",
      "source": [
        "import matplotlib.pyplot as plt\n",
        "\n",
        "raw_data['sentimen'].value_counts().plot.pie(figsize=(4,4),title=\"Sentiment Distribution\",labels=['','',''],autopct='%1.2f%%')\n",
        "labels=[\"Positif\",\"Netral\",\"Negatif\"]\n",
        "plt.legend(labels,loc=5)\n",
        "plt.gca().set_aspect('equal')\n"
      ],
      "metadata": {
        "colab": {
          "base_uri": "https://localhost:8080/",
          "height": 367
        },
        "id": "WUjX-OS1v_tx",
        "outputId": "23803bf5-02c4-47ad-9be0-aa988b9dcca5"
      },
      "id": "WUjX-OS1v_tx",
      "execution_count": 8,
      "outputs": [
        {
          "output_type": "display_data",
          "data": {
            "text/plain": [
              "<Figure size 400x400 with 1 Axes>"
            ],
            "image/png": "[encoded data removed]"
          },
          "metadata": {}
        }
      ]
    },
    {
      "cell_type": "code",
      "source": [
        "data = raw_data.copy()"
      ],
      "metadata": {
        "id": "IWwrjxIho3nQ"
      },
      "id": "IWwrjxIho3nQ",
      "execution_count": 9,
      "outputs": []
    },
    {
      "cell_type": "markdown",
      "source": [
        "# **2. Natural Language Text Preprocessing**"
      ],
      "metadata": {
        "id": "NMHgL7nUmzCs"
      },
      "id": "NMHgL7nUmzCs"
    },
    {
      "cell_type": "markdown",
      "source": [
        "## **2.1 Text Cleaning**"
      ],
      "metadata": {
        "id": "cZc1J4yOoUwH"
      },
      "id": "cZc1J4yOoUwH"
    },
    {
      "cell_type": "code",
      "source": [
        "import re\n",
        "import string\n",
        "\n",
        "def clean_text(text):\n",
        "    # Menghapus username Twitter (@username)\n",
        "    text = re.sub(r'@\\w+', '', text)\n",
        "    # Menghapus URL\n",
        "    text = re.sub(r'http\\S+|www\\S+|https\\S+', '', text)\n",
        "    # Menghapus karakter non-alfanumerik dan tanda baca\n",
        "    text = re.sub(r'[^\\w\\s]', '', text)\n",
        "    # Menghapus karakter berulang\n",
        "    text = re.sub(r'(.)\\1+', r'\\1\\1', text)\n",
        "    # Mengubah ke lowercase\n",
        "    text = text.lower()\n",
        "\n",
        "    return text\n",
        "\n",
        "def remove(tweet):\n",
        "    # Remove mention\n",
        "    tweet = re.sub(\"@[A-Za-z0-9_]+\", \"\", tweet)\n",
        "    # Remove stock market tickers like $GE\n",
        "    tweet = re.sub(r'$\\w*', '', tweet)\n",
        "    # Remove old style retweet text \"RT\"\n",
        "    tweet = re.sub(r'^RT[\\s]+', '', tweet)\n",
        "    tweet = re.sub(r'^rt[\\s]+', '', tweet)\n",
        "    # Remove hyperlinks\n",
        "    tweet = re.sub(r'https?:\\/\\/.*[\\r\\n]*', '', tweet)\n",
        "    tweet = re.sub(r'^https[\\s]+', '', tweet)\n",
        "    # Remove hashtags\n",
        "    tweet = re.sub(r'#', '', tweet)\n",
        "    tweet = re.sub(r'%', '', tweet)\n",
        "    # Remove commas\n",
        "    tweet = re.sub(r',', '', tweet)\n",
        "    # Remove numbers\n",
        "    tweet = re.sub('[0-9]+', '', tweet)\n",
        "    tweet = re.sub(r':', '', tweet)\n",
        "    # Remove space\n",
        "    tweet = tweet.strip()\n",
        "    # Remove double space}\n",
        "    tweet = re.sub('\\s+', ' ', tweet)\n",
        "    # Remove number\n",
        "    tweet = re.sub(r'\\d+', '', tweet)\n",
        "    # Remove punctuation\n",
        "    tweet = tweet.translate(str.maketrans('', '', string.punctuation))\n",
        "\n",
        "    # Cleaning text\n",
        "    cleaned_tweet = clean_text(tweet)\n",
        "    return cleaned_tweet\n",
        "\n",
        "# apply remove and clean_text function on 'tweet' and save in 'tweet_clean'\n",
        "data['tweet_clean'] = data['tweet'].apply(lambda x: remove(x.lower()))\n",
        "data['tweet_clean'].head(5)"
      ],
      "metadata": {
        "colab": {
          "base_uri": "https://localhost:8080/"
        },
        "id": "CA3V37C9nkCc",
        "outputId": "2819dc95-df03-4a2e-c7e2-f9c6d7cec824"
      },
      "id": "CA3V37C9nkCc",
      "execution_count": 10,
      "outputs": [
        {
          "output_type": "execute_result",
          "data": {
            "text/plain": [
              "0    kata indonesia tidak dihargai bangsa asing ber...\n",
              "1    batuan langka tasbih jokowi hadiah dari habib ...\n",
              "2    di era jokowi ekonomi indonesia semakin baik i...\n",
              "3    bagi sumatera selatan asian games berdampak pd...\n",
              "4    negara kita ngutang buat bngun infrastruktur y...\n",
              "Name: tweet_clean, dtype: object"
            ]
          },
          "metadata": {},
          "execution_count": 10
        }
      ]
    },
    {
      "cell_type": "markdown",
      "source": [
        "## **2.2 Stopword Removal**"
      ],
      "metadata": {
        "id": "TAA-mNGZrzB6"
      },
      "id": "TAA-mNGZrzB6"
    },
    {
      "cell_type": "code",
      "source": [
        "# Download stopwords\n",
        "nltk.download('stopwords')\n",
        "nltk.download('punkt')"
      ],
      "metadata": {
        "colab": {
          "base_uri": "https://localhost:8080/"
        },
        "id": "vlK52qQQ320J",
        "outputId": "3284eb58-7ba6-433e-c89e-5340de0d2890"
      },
      "execution_count": 11,
      "outputs": [
        {
          "output_type": "stream",
          "name": "stderr",
          "text": [
            "[nltk_data] Downloading package stopwords to /root/nltk_data...\n",
            "[nltk_data]   Package stopwords is already up-to-date!\n",
            "[nltk_data] Downloading package punkt to /root/nltk_data...\n",
            "[nltk_data]   Package punkt is already up-to-date!\n"
          ]
        },
        {
          "output_type": "execute_result",
          "data": {
            "text/plain": [
              "True"
            ]
          },
          "metadata": {},
          "execution_count": 11
        }
      ],
      "id": "vlK52qQQ320J"
    },
    {
      "cell_type": "markdown",
      "source": [
        "### **2.2.1 Traditional Stopword**"
      ],
      "metadata": {
        "id": "GRotlBqEBlDH"
      },
      "id": "GRotlBqEBlDH"
    },
    {
      "cell_type": "code",
      "source": [
        "import re\n",
        "import pandas as pd\n",
        "\n",
        "def remove_stopwords(text):\n",
        "    stopwords = ['yg','ðŸ','ðÿœ',\"yg\", \"dg\", \"rt\", \"dgn\", \"ny\", \"d\", 'klo',\n",
        "                       'kalo', 'amp', 'biar', 'bikin', 'bilang',\n",
        "                       'gak', 'ga', 'krn', 'nya', 'nih', 'sih',\n",
        "                       'si', 'tau', 'tdk', 'tuh', 'utk', 'ya',\n",
        "                       'jd', 'jgn', 'sdh', 'aja', 'n', 't',\n",
        "                       'nyg', 'hehe', 'pen', 'u', 'nan', 'loh', 'rt',\n",
        "                       '&amp', 'yah']  # Ganti dengan stopwords tradisional sesuai kebutuhan\n",
        "\n",
        "    # Menghapus karakter non-alfabet dan mengubah teks menjadi huruf kecil\n",
        "    processed_text = re.sub(r'[^a-zA-Z]', ' ', text.lower())\n",
        "\n",
        "    # Memisahkan kata-kata dalam teks\n",
        "    words = processed_text.split()\n",
        "\n",
        "    # Menghapus stopwords dari teks\n",
        "    filtered_words = [word for word in words if word not in stopwords]\n",
        "\n",
        "    # Menggabungkan kembali kata-kata yang telah di-filter\n",
        "    filtered_text = ' '.join(filtered_words)\n",
        "\n",
        "    return filtered_text\n",
        "\n",
        "# Menerapkan fungsi remove_stopwords pada kolom 'tweet_clean'\n",
        "filtered_text = data['tweet_clean'].apply(remove_stopwords)\n",
        "\n",
        "# Menampilkan DataFrame hasil\n",
        "print(filtered_text)\n"
      ],
      "metadata": {
        "id": "j6o74LR2kv0r",
        "colab": {
          "base_uri": "https://localhost:8080/"
        },
        "outputId": "adaa2e80-b03c-4b98-b5fc-0bc2ebb73fe4"
      },
      "execution_count": 12,
      "outputs": [
        {
          "output_type": "stream",
          "name": "stdout",
          "text": [
            "0       kata indonesia tidak dihargai bangsa asing ber...\n",
            "1       batuan langka tasbih jokowi hadiah dari habib ...\n",
            "2       di era jokowi ekonomi indonesia semakin baik i...\n",
            "3       bagi sumatera selatan asian games berdampak pd...\n",
            "4       negara kita ngutang buat bngun infrastruktur y...\n",
            "                              ...                        \n",
            "1810    negarawan sejati sll bangga dan mengedepankan ...\n",
            "1811    hrs ceramah di damai indonesiaku perekonomian ...\n",
            "1812    mari bangun bangsa mendukung perekonomian nega...\n",
            "1813    bantu majukan perekonomian bangsa bersama pak ...\n",
            "1814    pak mengubah cara pandang ekonomi kini semua o...\n",
            "Name: tweet_clean, Length: 1815, dtype: object\n"
          ]
        }
      ],
      "id": "j6o74LR2kv0r"
    },
    {
      "cell_type": "markdown",
      "source": [
        "### **2.2.2 Sastrawi Stopword**"
      ],
      "metadata": {
        "id": "W7UOaxQwBpOI"
      },
      "id": "W7UOaxQwBpOI"
    },
    {
      "cell_type": "code",
      "source": [
        "!pip install Sastrawi\n",
        "from Sastrawi.StopWordRemover.StopWordRemoverFactory import StopWordRemoverFactory\n",
        "import re\n",
        "\n",
        "def preprocess_text(text):\n",
        "    # Buat instance dari StopWordRemoverFactory\n",
        "    factory = StopWordRemoverFactory()\n",
        "    stopword_remover = factory.create_stop_word_remover()\n",
        "\n",
        "    # Menghapus karakter non-alfanumerik dan mengubah ke huruf kecil\n",
        "    text = re.sub(r'\\W+', ' ', text.lower())\n",
        "\n",
        "    # Menghapus stopwords dari teks menggunakan Sastrawi\n",
        "    text_tanpa_stopword = stopword_remover.remove(text)\n",
        "\n",
        "    return text_tanpa_stopword\n",
        "\n",
        "data['tweet_sw'] = filtered_text.apply(preprocess_text)\n",
        "\n",
        "print(data['tweet_sw'])"
      ],
      "metadata": {
        "colab": {
          "base_uri": "https://localhost:8080/"
        },
        "id": "9tT2DGRLoXVC",
        "outputId": "3bef723b-9ad0-4a5f-e351-f98e6a0ccfb9"
      },
      "execution_count": 13,
      "outputs": [
        {
          "output_type": "stream",
          "name": "stdout",
          "text": [
            "Requirement already satisfied: Sastrawi in /usr/local/lib/python3.10/dist-packages (1.0.1)\n",
            "0       kata indonesia dihargai bangsa asing berita pa...\n",
            "1       batuan langka tasbih jokowi hadiah habib luthf...\n",
            "2       era jokowi ekonomi indonesia semakin baik indo...\n",
            "3       sumatera selatan asian games berdampak pd ekon...\n",
            "4       negara ngutang buat bngun infrastruktur udah d...\n",
            "                              ...                        \n",
            "1810    negarawan sejati sll bangga mengedepankan harg...\n",
            "1811    hrs ceramah damai indonesiaku perekonomian mak...\n",
            "1812    bangun bangsa mendukung perekonomian negara be...\n",
            "1813    bantu majukan perekonomian bangsa bersama pak ...\n",
            "1814    pak mengubah cara pandang ekonomi kini semua o...\n",
            "Name: tweet_sw, Length: 1815, dtype: object\n"
          ]
        }
      ],
      "id": "9tT2DGRLoXVC"
    },
    {
      "cell_type": "markdown",
      "source": [
        "## **2.3 Text Normalization**"
      ],
      "metadata": {
        "id": "IWS5I453COKx"
      },
      "id": "IWS5I453COKx"
    },
    {
      "cell_type": "markdown",
      "source": [
        "### **2.3.1 Lemmazation**"
      ],
      "metadata": {
        "id": "pxvNL__56wba"
      },
      "id": "pxvNL__56wba"
    },
    {
      "cell_type": "code",
      "source": [
        "import spacy\n",
        "nlp = spacy.load('en_core_web_sm')\n",
        "\n",
        "def lemmatization (text):\n",
        "    doc = nlp(text)\n",
        "    tokens = [token.lemma_.lower() for token in doc if not token.is_stop and not token.is_punct]\n",
        "    return ' '.join(tokens)\n",
        "data['tweet_clean'] = data['tweet_sw'].apply(lemmatization)"
      ],
      "metadata": {
        "id": "AHpCKpMZqTpg"
      },
      "execution_count": 14,
      "outputs": [],
      "id": "AHpCKpMZqTpg"
    },
    {
      "cell_type": "code",
      "source": [
        "data['tweet_clean']"
      ],
      "metadata": {
        "colab": {
          "base_uri": "https://localhost:8080/"
        },
        "id": "toK-Ah-j8Yoi",
        "outputId": "7daec8ec-d84f-4ea9-80fb-834741ced880"
      },
      "execution_count": 15,
      "outputs": [
        {
          "output_type": "execute_result",
          "data": {
            "text/plain": [
              "0       kata indonesia dihargai bangsa ase berita past...\n",
              "1       batuan langka tasbih jokowi hadiah habib luthf...\n",
              "2       era jokowi ekonomi indonesia semakin baik indo...\n",
              "3       sumatera selatan asian game berdampak pd ekono...\n",
              "4       negara ngutang buat bngun infrastruktur udah d...\n",
              "                              ...                        \n",
              "1810    negarawan sejati sll bangga mengedepankan harg...\n",
              "1811    hrs ceramah damai indonesiaku perekonomian mak...\n",
              "1812    bangun bangsa mendukung perekonomian negara be...\n",
              "1813    bantu majukan perekonomian bangsa bersama pak ...\n",
              "1814    pak mengubah cara pandang ekonomi kini semua o...\n",
              "Name: tweet_clean, Length: 1815, dtype: object"
            ]
          },
          "metadata": {},
          "execution_count": 15
        }
      ],
      "id": "toK-Ah-j8Yoi"
    },
    {
      "cell_type": "markdown",
      "source": [
        "## **2.4 Text Tokenization**"
      ],
      "metadata": {
        "id": "CCuyfe7qrCYN"
      },
      "id": "CCuyfe7qrCYN"
    },
    {
      "cell_type": "markdown",
      "source": [
        "### **2.4.1 Word Tokenization**"
      ],
      "metadata": {
        "id": "caFcQHG5rF1G"
      },
      "id": "caFcQHG5rF1G"
    },
    {
      "cell_type": "code",
      "source": [
        "import nltk\n",
        "from nltk.tokenize import word_tokenize, sent_tokenize\n",
        "\n",
        "# Fungsi untuk tokenisasi kata\n",
        "def tokenize_words(text):\n",
        "    words = word_tokenize(text)\n",
        "    return words\n",
        "\n",
        "# Tokenisasi kata\n",
        "data['tweet_token_words'] = data['tweet_clean'].apply(tokenize_words)\n",
        "print(\"\\nTokenisasi kata:\")\n",
        "print(data['tweet_token_words'])"
      ],
      "metadata": {
        "id": "jN0OpId9rI-0",
        "colab": {
          "base_uri": "https://localhost:8080/"
        },
        "outputId": "7fbac513-f00b-4bca-e600-1e673e161ac0"
      },
      "execution_count": 16,
      "outputs": [
        {
          "output_type": "stream",
          "name": "stdout",
          "text": [
            "\n",
            "Tokenisasi kata:\n",
            "0       [kata, indonesia, dihargai, bangsa, ase, berit...\n",
            "1       [batuan, langka, tasbih, jokowi, hadiah, habib...\n",
            "2       [era, jokowi, ekonomi, indonesia, semakin, bai...\n",
            "3       [sumatera, selatan, asian, game, berdampak, pd...\n",
            "4       [negara, ngutang, buat, bngun, infrastruktur, ...\n",
            "                              ...                        \n",
            "1810    [negarawan, sejati, sll, bangga, mengedepankan...\n",
            "1811    [hrs, ceramah, damai, indonesiaku, perekonomia...\n",
            "1812    [bangun, bangsa, mendukung, perekonomian, nega...\n",
            "1813    [bantu, majukan, perekonomian, bangsa, bersama...\n",
            "1814    [pak, mengubah, cara, pandang, ekonomi, kini, ...\n",
            "Name: tweet_token_words, Length: 1815, dtype: object\n"
          ]
        }
      ],
      "id": "jN0OpId9rI-0"
    },
    {
      "cell_type": "markdown",
      "source": [
        "### **2.4.2 Sentence Tokenization**"
      ],
      "metadata": {
        "id": "-eitBhGerNRY"
      },
      "id": "-eitBhGerNRY"
    },
    {
      "cell_type": "code",
      "source": [
        "import nltk\n",
        "from nltk.tokenize import word_tokenize, sent_tokenize\n",
        "\n",
        "# Fungsi untuk tokenisasi kalimat\n",
        "def tokenize_sentences(text):\n",
        "    sentences = sent_tokenize(text)\n",
        "    return sentences\n",
        "\n",
        "# Tokenisasi kalimat\n",
        "data['tweet_token_sentences'] = data['tweet_clean'].apply(tokenize_sentences)\n",
        "print(\"Tokenisasi kalimat:\")\n",
        "print(data['tweet_token_sentences'])"
      ],
      "metadata": {
        "id": "IxoUgBbZrWzr",
        "colab": {
          "base_uri": "https://localhost:8080/"
        },
        "outputId": "05a49550-1d35-4aa1-f9bf-1cf59cc5c3ce"
      },
      "execution_count": 17,
      "outputs": [
        {
          "output_type": "stream",
          "name": "stdout",
          "text": [
            "Tokenisasi kalimat:\n",
            "0       [kata indonesia dihargai bangsa ase berita pas...\n",
            "1       [batuan langka tasbih jokowi hadiah habib luth...\n",
            "2       [era jokowi ekonomi indonesia semakin baik ind...\n",
            "3       [sumatera selatan asian game berdampak pd ekon...\n",
            "4       [negara ngutang buat bngun infrastruktur udah ...\n",
            "                              ...                        \n",
            "1810    [negarawan sejati sll bangga mengedepankan har...\n",
            "1811    [hrs ceramah damai indonesiaku perekonomian ma...\n",
            "1812    [bangun bangsa mendukung perekonomian negara b...\n",
            "1813    [bantu majukan perekonomian bangsa bersama pak...\n",
            "1814    [pak mengubah cara pandang ekonomi kini semua ...\n",
            "Name: tweet_token_sentences, Length: 1815, dtype: object\n"
          ]
        }
      ],
      "id": "IxoUgBbZrWzr"
    },
    {
      "cell_type": "markdown",
      "source": [
        "## **2.5 Word2Vec**"
      ],
      "metadata": {
        "id": "TuTjK0We3P80"
      },
      "id": "TuTjK0We3P80"
    },
    {
      "cell_type": "markdown",
      "source": [
        "### **2.5.1 CBOW**"
      ],
      "metadata": {
        "id": "C5FIADD13V2k"
      },
      "id": "C5FIADD13V2k"
    },
    {
      "cell_type": "code",
      "source": [
        "import gensim\n",
        "from gensim.models import Word2Vec\n",
        "\n",
        "# WORD2VEC\n",
        "W2V_SIZE = 300\n",
        "W2V_WINDOW = 7\n",
        "W2V_EPOCH = 32\n",
        "W2V_MIN_COUNT = 10"
      ],
      "metadata": {
        "id": "Gm7AyyDS3W4W"
      },
      "execution_count": 18,
      "outputs": [],
      "id": "Gm7AyyDS3W4W"
    },
    {
      "cell_type": "code",
      "source": [
        "clean_data = data['tweet_clean'].apply(gensim.utils.simple_preprocess)"
      ],
      "metadata": {
        "id": "0Iz6FcEI8mlD"
      },
      "execution_count": 19,
      "outputs": [],
      "id": "0Iz6FcEI8mlD"
    },
    {
      "cell_type": "code",
      "source": [
        "w2v_model = Word2Vec(vector_size=W2V_SIZE,\n",
        "                     window=W2V_WINDOW,\n",
        "                     min_count=W2V_MIN_COUNT,\n",
        "                     workers=8)"
      ],
      "metadata": {
        "id": "yp_okueG3wyn"
      },
      "execution_count": 20,
      "outputs": [],
      "id": "yp_okueG3wyn"
    },
    {
      "cell_type": "code",
      "source": [
        "w2v_model.build_vocab(clean_data)"
      ],
      "metadata": {
        "id": "JbkxL03I3s0I"
      },
      "execution_count": 21,
      "outputs": [],
      "id": "JbkxL03I3s0I"
    },
    {
      "cell_type": "code",
      "source": [
        "words = list(w2v_model.wv.key_to_index.keys())\n",
        "vocab_size = len(words)\n",
        "print(\"Vocab size:\", vocab_size)"
      ],
      "metadata": {
        "colab": {
          "base_uri": "https://localhost:8080/"
        },
        "id": "p8PRhj5X5WDP",
        "outputId": "0c2ff32b-d71f-4ef7-9ff6-2851b377a6f3"
      },
      "execution_count": 22,
      "outputs": [
        {
          "output_type": "stream",
          "name": "stdout",
          "text": [
            "Vocab size: 599\n"
          ]
        }
      ],
      "id": "p8PRhj5X5WDP"
    },
    {
      "cell_type": "code",
      "source": [
        "%%time\n",
        "w2v_model.train(clean_data, total_examples=len(clean_data), epochs=W2V_EPOCH)"
      ],
      "metadata": {
        "colab": {
          "base_uri": "https://localhost:8080/"
        },
        "id": "oT0zlnom5LYr",
        "outputId": "3d59f7a4-d6b4-482a-c076-811f0707aca0"
      },
      "execution_count": 23,
      "outputs": [
        {
          "output_type": "stream",
          "name": "stdout",
          "text": [
            "CPU times: user 1.95 s, sys: 44.3 ms, total: 1.99 s\n",
            "Wall time: 2.03 s\n"
          ]
        },
        {
          "output_type": "execute_result",
          "data": {
            "text/plain": [
              "(485412, 1029728)"
            ]
          },
          "metadata": {},
          "execution_count": 23
        }
      ],
      "id": "oT0zlnom5LYr"
    },
    {
      "cell_type": "code",
      "source": [
        "# Membuat objek Word2Vec (contoh)\n",
        "sentences = [tweet.split() for tweet in data['tweet_clean']]\n",
        "w2v_model = Word2Vec(sentences=sentences, min_count=1)\n",
        "\n",
        "# Membuat kolom baru di DataFrame untuk menampung hasil append\n",
        "data['tweet_w2v_model'] = data['tweet_clean'].apply(lambda x: w2v_model.wv[x.split()[0]] if len(x.split()) > 0 else [])\n",
        "\n",
        "# Menampilkan DataFrame\n",
        "print(\"tweet_w2v_model kalimat:\")\n",
        "print(data['tweet_w2v_model'])"
      ],
      "metadata": {
        "colab": {
          "base_uri": "https://localhost:8080/"
        },
        "id": "dDUTDLCv91O5",
        "outputId": "d366f7c3-0024-4e96-acce-1ce649a18cfb"
      },
      "execution_count": 24,
      "outputs": [
        {
          "output_type": "stream",
          "name": "stdout",
          "text": [
            "tweet_w2v_model kalimat:\n",
            "0       [-0.038407058, 0.10917249, 0.11146068, 0.01596...\n",
            "1       [0.0010882557, 0.0036358547, -0.002190964, 0.0...\n",
            "2       [-0.03957938, 0.10544908, 0.1207639, 0.0277250...\n",
            "3       [-0.0020750375, 0.018362768, 0.028419644, -0.0...\n",
            "4       [-0.08168821, 0.25851193, 0.2980598, 0.0452845...\n",
            "                              ...                        \n",
            "1810    [0.0010867115, -0.0025075201, 0.0032208513, 0....\n",
            "1811    [-0.0067334427, 0.05805434, 0.055827755, 0.020...\n",
            "1812    [-0.0091988295, 0.05304953, 0.05904097, 0.0075...\n",
            "1813    [-0.003021156, 0.009553221, 0.014545442, -0.00...\n",
            "1814    [-0.098471, 0.30839503, 0.3258351, 0.05865368,...\n",
            "Name: tweet_w2v_model, Length: 1815, dtype: object\n"
          ]
        }
      ],
      "id": "dDUTDLCv91O5"
    },
    {
      "cell_type": "code",
      "source": [
        "similar_words = w2v_model.wv.most_similar(\"ekonomi\")\n",
        "similar_words"
      ],
      "metadata": {
        "colab": {
          "base_uri": "https://localhost:8080/"
        },
        "id": "yLqgAN3l6TSP",
        "outputId": "d283b012-7c48-4169-de7f-5e21f356be81"
      },
      "execution_count": 25,
      "outputs": [
        {
          "output_type": "execute_result",
          "data": {
            "text/plain": [
              "[('rakyat', 0.9996875524520874),\n",
              " ('jokowi', 0.999643087387085),\n",
              " ('indonesia', 0.9995438456535339),\n",
              " ('harga', 0.9994696378707886),\n",
              " ('prabowo', 0.999464213848114),\n",
              " ('negara', 0.99945467710495),\n",
              " ('pak', 0.9994531273841858),\n",
              " ('mau', 0.9994474649429321),\n",
              " ('game', 0.9994322657585144),\n",
              " ('pajak', 0.9994081258773804)]"
            ]
          },
          "metadata": {},
          "execution_count": 25
        }
      ],
      "id": "yLqgAN3l6TSP"
    },
    {
      "cell_type": "markdown",
      "id": "a3af2c05",
      "metadata": {
        "id": "a3af2c05"
      },
      "source": [
        "# **3. Feature Engineering**"
      ]
    },
    {
      "cell_type": "code",
      "execution_count": 26,
      "id": "a4b89324",
      "metadata": {
        "id": "a4b89324"
      },
      "outputs": [],
      "source": [
        "# Load libraries\n",
        "from sklearn.preprocessing import LabelEncoder\n",
        "from sklearn.model_selection import train_test_split\n",
        "from sklearn.feature_extraction.text import CountVectorizer"
      ]
    },
    {
      "cell_type": "code",
      "execution_count": 60,
      "id": "2610b781",
      "metadata": {
        "id": "2610b781"
      },
      "outputs": [],
      "source": [
        "# Define feature and target data\n",
        "feature = data['tweet_token_sentences'].values\n",
        "target  = data['sentimen'].values"
      ]
    },
    {
      "cell_type": "code",
      "execution_count": 61,
      "id": "071737e9",
      "metadata": {
        "id": "071737e9"
      },
      "outputs": [],
      "source": [
        "# Transform string to label\n",
        "encoder = LabelEncoder()\n",
        "target_encoder = encoder.fit_transform(target)"
      ]
    },
    {
      "cell_type": "code",
      "execution_count": 62,
      "id": "1bf88eda",
      "metadata": {
        "id": "1bf88eda"
      },
      "outputs": [],
      "source": [
        "# Split dataset into training-testing\n",
        "X_train, X_test, y_train, y_test = train_test_split(feature, target_encoder, test_size = 0.2, random_state = 1)"
      ]
    },
    {
      "cell_type": "code",
      "execution_count": 63,
      "id": "75302eaa",
      "metadata": {
        "colab": {
          "base_uri": "https://localhost:8080/"
        },
        "id": "75302eaa",
        "outputId": "7bf1bf88-2382-4390-c40d-fad0e87503da"
      },
      "outputs": [
        {
          "output_type": "execute_result",
          "data": {
            "text/plain": [
              "((1452,), (363,), (1452,), (363,))"
            ]
          },
          "metadata": {},
          "execution_count": 63
        }
      ],
      "source": [
        "# Check dimension\n",
        "X_train.shape, X_test.shape, y_train.shape, y_test.shape"
      ]
    },
    {
      "cell_type": "code",
      "source": [
        "X_train_str = [' '.join(tokens) for tokens in X_train]\n",
        "X_test_str = [' '.join(tokens) for tokens in X_test]"
      ],
      "metadata": {
        "id": "B2Mu-kWQ2EL3"
      },
      "id": "B2Mu-kWQ2EL3",
      "execution_count": 64,
      "outputs": []
    },
    {
      "cell_type": "code",
      "execution_count": 65,
      "id": "a8caf80b",
      "metadata": {
        "colab": {
          "base_uri": "https://localhost:8080/",
          "height": 75
        },
        "id": "a8caf80b",
        "outputId": "711ba8ee-ea56-4509-cbea-b6caa62b5a05"
      },
      "outputs": [
        {
          "output_type": "execute_result",
          "data": {
            "text/plain": [
              "CountVectorizer()"
            ],
            "text/html": [
              "<style>#sk-container-id-3 {color: black;background-color: white;}#sk-container-id-3 pre{padding: 0;}#sk-container-id-3 div.sk-toggleable {background-color: white;}#sk-container-id-3 label.sk-toggleable__label {cursor: pointer;display: block;width: 100%;margin-bottom: 0;padding: 0.3em;box-sizing: border-box;text-align: center;}#sk-container-id-3 label.sk-toggleable__label-arrow:before {content: \"▸\";float: left;margin-right: 0.25em;color: #696969;}#sk-container-id-3 label.sk-toggleable__label-arrow:hover:before {color: black;}#sk-container-id-3 div.sk-estimator:hover label.sk-toggleable__label-arrow:before {color: black;}#sk-container-id-3 div.sk-toggleable__content {max-height: 0;max-width: 0;overflow: hidden;text-align: left;background-color: #f0f8ff;}#sk-container-id-3 div.sk-toggleable__content pre {margin: 0.2em;color: black;border-radius: 0.25em;background-color: #f0f8ff;}#sk-container-id-3 input.sk-toggleable__control:checked~div.sk-toggleable__content {max-height: 200px;max-width: 100%;overflow: auto;}#sk-container-id-3 input.sk-toggleable__control:checked~label.sk-toggleable__label-arrow:before {content: \"▾\";}#sk-container-id-3 div.sk-estimator input.sk-toggleable__control:checked~label.sk-toggleable__label {background-color: #d4ebff;}#sk-container-id-3 div.sk-label input.sk-toggleable__control:checked~label.sk-toggleable__label {background-color: #d4ebff;}#sk-container-id-3 input.sk-hidden--visually {border: 0;clip: rect(1px 1px 1px 1px);clip: rect(1px, 1px, 1px, 1px);height: 1px;margin: -1px;overflow: hidden;padding: 0;position: absolute;width: 1px;}#sk-container-id-3 div.sk-estimator {font-family: monospace;background-color: #f0f8ff;border: 1px dotted black;border-radius: 0.25em;box-sizing: border-box;margin-bottom: 0.5em;}#sk-container-id-3 div.sk-estimator:hover {background-color: #d4ebff;}#sk-container-id-3 div.sk-parallel-item::after {content: \"\";width: 100%;border-bottom: 1px solid gray;flex-grow: 1;}#sk-container-id-3 div.sk-label:hover label.sk-toggleable__label {background-color: #d4ebff;}#sk-container-id-3 div.sk-serial::before {content: \"\";position: absolute;border-left: 1px solid gray;box-sizing: border-box;top: 0;bottom: 0;left: 50%;z-index: 0;}#sk-container-id-3 div.sk-serial {display: flex;flex-direction: column;align-items: center;background-color: white;padding-right: 0.2em;padding-left: 0.2em;position: relative;}#sk-container-id-3 div.sk-item {position: relative;z-index: 1;}#sk-container-id-3 div.sk-parallel {display: flex;align-items: stretch;justify-content: center;background-color: white;position: relative;}#sk-container-id-3 div.sk-item::before, #sk-container-id-3 div.sk-parallel-item::before {content: \"\";position: absolute;border-left: 1px solid gray;box-sizing: border-box;top: 0;bottom: 0;left: 50%;z-index: -1;}#sk-container-id-3 div.sk-parallel-item {display: flex;flex-direction: column;z-index: 1;position: relative;background-color: white;}#sk-container-id-3 div.sk-parallel-item:first-child::after {align-self: flex-end;width: 50%;}#sk-container-id-3 div.sk-parallel-item:last-child::after {align-self: flex-start;width: 50%;}#sk-container-id-3 div.sk-parallel-item:only-child::after {width: 0;}#sk-container-id-3 div.sk-dashed-wrapped {border: 1px dashed gray;margin: 0 0.4em 0.5em 0.4em;box-sizing: border-box;padding-bottom: 0.4em;background-color: white;}#sk-container-id-3 div.sk-label label {font-family: monospace;font-weight: bold;display: inline-block;line-height: 1.2em;}#sk-container-id-3 div.sk-label-container {text-align: center;}#sk-container-id-3 div.sk-container {/* jupyter's `normalize.less` sets `[hidden] { display: none; }` but bootstrap.min.css set `[hidden] { display: none !important; }` so we also need the `!important` here to be able to override the default hidden behavior on the sphinx rendered scikit-learn.org. See: https://github.com/scikit-learn/scikit-learn/issues/21755 */display: inline-block !important;position: relative;}#sk-container-id-3 div.sk-text-repr-fallback {display: none;}</style><div id=\"sk-container-id-3\" class=\"sk-top-container\"><div class=\"sk-text-repr-fallback\"><pre>CountVectorizer()</pre><b>In a Jupyter environment, please rerun this cell to show the HTML representation or trust the notebook. <br />On GitHub, the HTML representation is unable to render, please try loading this page with nbviewer.org.</b></div><div class=\"sk-container\" hidden><div class=\"sk-item\"><div class=\"sk-estimator sk-toggleable\"><input class=\"sk-toggleable__control sk-hidden--visually\" id=\"sk-estimator-id-3\" type=\"checkbox\" checked><label for=\"sk-estimator-id-3\" class=\"sk-toggleable__label sk-toggleable__label-arrow\">CountVectorizer</label><div class=\"sk-toggleable__content\"><pre>CountVectorizer()</pre></div></div></div></div></div>"
            ]
          },
          "metadata": {},
          "execution_count": 65
        }
      ],
      "source": [
        "# Transform text data into vector data\n",
        "embedding = CountVectorizer()\n",
        "embedding.fit(X_train_str)\n",
        "embedding.fit(X_test_str)"
      ]
    },
    {
      "cell_type": "code",
      "execution_count": 67,
      "id": "523f6ab1",
      "metadata": {
        "id": "523f6ab1"
      },
      "outputs": [],
      "source": [
        "## Apply on train-test\n",
        "X_train_vec = embedding.transform(X_train_str)\n",
        "X_test_vec  = embedding.transform(X_test_str)"
      ]
    },
    {
      "cell_type": "code",
      "execution_count": 68,
      "id": "faaea027",
      "metadata": {
        "colab": {
          "base_uri": "https://localhost:8080/"
        },
        "id": "faaea027",
        "outputId": "68108944-36ce-4287-fb2b-a8e82b267b1b"
      },
      "outputs": [
        {
          "output_type": "execute_result",
          "data": {
            "text/plain": [
              "((1452, 2539), (363, 2539))"
            ]
          },
          "metadata": {},
          "execution_count": 68
        }
      ],
      "source": [
        "# Check dimension of text vectorized\n",
        "X_train_vec.shape, X_test_vec.shape"
      ]
    },
    {
      "cell_type": "markdown",
      "id": "ef85447f",
      "metadata": {
        "id": "ef85447f"
      },
      "source": [
        "# **4. Data Modeling**"
      ]
    },
    {
      "cell_type": "code",
      "execution_count": 71,
      "id": "697adec8",
      "metadata": {
        "id": "697adec8"
      },
      "outputs": [],
      "source": [
        "# Load libraries\n",
        "import seaborn as sns\n",
        "import matplotlib.pyplot as plt\n",
        "from sklearn.model_selection import GridSearchCV\n",
        "from sklearn.ensemble import RandomForestClassifier\n",
        "from sklearn.metrics import classification_report, confusion_matrix"
      ]
    },
    {
      "cell_type": "code",
      "execution_count": 72,
      "id": "a51665ad",
      "metadata": {
        "id": "a51665ad"
      },
      "outputs": [],
      "source": [
        "# Set styling\n",
        "plt.style.use(\"ggplot\")"
      ]
    },
    {
      "cell_type": "markdown",
      "id": "d259e937",
      "metadata": {
        "id": "d259e937"
      },
      "source": [
        "## **4.1 Random Forest Baseline**"
      ]
    },
    {
      "cell_type": "code",
      "execution_count": 73,
      "id": "22ba369b",
      "metadata": {
        "id": "22ba369b"
      },
      "outputs": [],
      "source": [
        "# Define random forest model\n",
        "model = RandomForestClassifier()"
      ]
    },
    {
      "cell_type": "code",
      "execution_count": 74,
      "id": "da56cf28",
      "metadata": {
        "colab": {
          "base_uri": "https://localhost:8080/",
          "height": 75
        },
        "id": "da56cf28",
        "outputId": "d3b154f0-a27d-46a1-e2e2-27c74b2c7bec"
      },
      "outputs": [
        {
          "output_type": "execute_result",
          "data": {
            "text/plain": [
              "RandomForestClassifier()"
            ],
            "text/html": [
              "<style>#sk-container-id-4 {color: black;background-color: white;}#sk-container-id-4 pre{padding: 0;}#sk-container-id-4 div.sk-toggleable {background-color: white;}#sk-container-id-4 label.sk-toggleable__label {cursor: pointer;display: block;width: 100%;margin-bottom: 0;padding: 0.3em;box-sizing: border-box;text-align: center;}#sk-container-id-4 label.sk-toggleable__label-arrow:before {content: \"▸\";float: left;margin-right: 0.25em;color: #696969;}#sk-container-id-4 label.sk-toggleable__label-arrow:hover:before {color: black;}#sk-container-id-4 div.sk-estimator:hover label.sk-toggleable__label-arrow:before {color: black;}#sk-container-id-4 div.sk-toggleable__content {max-height: 0;max-width: 0;overflow: hidden;text-align: left;background-color: #f0f8ff;}#sk-container-id-4 div.sk-toggleable__content pre {margin: 0.2em;color: black;border-radius: 0.25em;background-color: #f0f8ff;}#sk-container-id-4 input.sk-toggleable__control:checked~div.sk-toggleable__content {max-height: 200px;max-width: 100%;overflow: auto;}#sk-container-id-4 input.sk-toggleable__control:checked~label.sk-toggleable__label-arrow:before {content: \"▾\";}#sk-container-id-4 div.sk-estimator input.sk-toggleable__control:checked~label.sk-toggleable__label {background-color: #d4ebff;}#sk-container-id-4 div.sk-label input.sk-toggleable__control:checked~label.sk-toggleable__label {background-color: #d4ebff;}#sk-container-id-4 input.sk-hidden--visually {border: 0;clip: rect(1px 1px 1px 1px);clip: rect(1px, 1px, 1px, 1px);height: 1px;margin: -1px;overflow: hidden;padding: 0;position: absolute;width: 1px;}#sk-container-id-4 div.sk-estimator {font-family: monospace;background-color: #f0f8ff;border: 1px dotted black;border-radius: 0.25em;box-sizing: border-box;margin-bottom: 0.5em;}#sk-container-id-4 div.sk-estimator:hover {background-color: #d4ebff;}#sk-container-id-4 div.sk-parallel-item::after {content: \"\";width: 100%;border-bottom: 1px solid gray;flex-grow: 1;}#sk-container-id-4 div.sk-label:hover label.sk-toggleable__label {background-color: #d4ebff;}#sk-container-id-4 div.sk-serial::before {content: \"\";position: absolute;border-left: 1px solid gray;box-sizing: border-box;top: 0;bottom: 0;left: 50%;z-index: 0;}#sk-container-id-4 div.sk-serial {display: flex;flex-direction: column;align-items: center;background-color: white;padding-right: 0.2em;padding-left: 0.2em;position: relative;}#sk-container-id-4 div.sk-item {position: relative;z-index: 1;}#sk-container-id-4 div.sk-parallel {display: flex;align-items: stretch;justify-content: center;background-color: white;position: relative;}#sk-container-id-4 div.sk-item::before, #sk-container-id-4 div.sk-parallel-item::before {content: \"\";position: absolute;border-left: 1px solid gray;box-sizing: border-box;top: 0;bottom: 0;left: 50%;z-index: -1;}#sk-container-id-4 div.sk-parallel-item {display: flex;flex-direction: column;z-index: 1;position: relative;background-color: white;}#sk-container-id-4 div.sk-parallel-item:first-child::after {align-self: flex-end;width: 50%;}#sk-container-id-4 div.sk-parallel-item:last-child::after {align-self: flex-start;width: 50%;}#sk-container-id-4 div.sk-parallel-item:only-child::after {width: 0;}#sk-container-id-4 div.sk-dashed-wrapped {border: 1px dashed gray;margin: 0 0.4em 0.5em 0.4em;box-sizing: border-box;padding-bottom: 0.4em;background-color: white;}#sk-container-id-4 div.sk-label label {font-family: monospace;font-weight: bold;display: inline-block;line-height: 1.2em;}#sk-container-id-4 div.sk-label-container {text-align: center;}#sk-container-id-4 div.sk-container {/* jupyter's `normalize.less` sets `[hidden] { display: none; }` but bootstrap.min.css set `[hidden] { display: none !important; }` so we also need the `!important` here to be able to override the default hidden behavior on the sphinx rendered scikit-learn.org. See: https://github.com/scikit-learn/scikit-learn/issues/21755 */display: inline-block !important;position: relative;}#sk-container-id-4 div.sk-text-repr-fallback {display: none;}</style><div id=\"sk-container-id-4\" class=\"sk-top-container\"><div class=\"sk-text-repr-fallback\"><pre>RandomForestClassifier()</pre><b>In a Jupyter environment, please rerun this cell to show the HTML representation or trust the notebook. <br />On GitHub, the HTML representation is unable to render, please try loading this page with nbviewer.org.</b></div><div class=\"sk-container\" hidden><div class=\"sk-item\"><div class=\"sk-estimator sk-toggleable\"><input class=\"sk-toggleable__control sk-hidden--visually\" id=\"sk-estimator-id-4\" type=\"checkbox\" checked><label for=\"sk-estimator-id-4\" class=\"sk-toggleable__label sk-toggleable__label-arrow\">RandomForestClassifier</label><div class=\"sk-toggleable__content\"><pre>RandomForestClassifier()</pre></div></div></div></div></div>"
            ]
          },
          "metadata": {},
          "execution_count": 74
        }
      ],
      "source": [
        "### Training model\n",
        "model.fit(X_train_vec, y_train)"
      ]
    },
    {
      "cell_type": "code",
      "execution_count": 75,
      "id": "fc3e9812",
      "metadata": {
        "colab": {
          "base_uri": "https://localhost:8080/"
        },
        "id": "fc3e9812",
        "outputId": "5a662aee-6f8a-4a88-e592-8bd9bcbdee92"
      },
      "outputs": [
        {
          "output_type": "stream",
          "name": "stdout",
          "text": [
            "              precision    recall  f1-score   support\n",
            "\n",
            "     negatif       1.00      1.00      1.00       479\n",
            "      netral       1.00      1.00      1.00       480\n",
            "     positif       1.00      1.00      1.00       493\n",
            "\n",
            "    accuracy                           1.00      1452\n",
            "   macro avg       1.00      1.00      1.00      1452\n",
            "weighted avg       1.00      1.00      1.00      1452\n",
            "\n"
          ]
        }
      ],
      "source": [
        "### Evaluate model on train set\n",
        "pred = model.predict(X_train_vec)\n",
        "print(classification_report(y_train, pred, target_names = ['negatif', 'netral', 'positif']))"
      ]
    },
    {
      "cell_type": "code",
      "execution_count": 76,
      "id": "02c40850",
      "metadata": {
        "colab": {
          "base_uri": "https://localhost:8080/"
        },
        "id": "02c40850",
        "outputId": "80bfd716-cc1a-4609-9565-744ecbece94c"
      },
      "outputs": [
        {
          "output_type": "stream",
          "name": "stdout",
          "text": [
            "              precision    recall  f1-score   support\n",
            "\n",
            "     negatif       0.58      0.73      0.64       117\n",
            "      netral       0.61      0.51      0.56       127\n",
            "     positif       0.56      0.51      0.54       119\n",
            "\n",
            "    accuracy                           0.58       363\n",
            "   macro avg       0.58      0.58      0.58       363\n",
            "weighted avg       0.58      0.58      0.58       363\n",
            "\n"
          ]
        }
      ],
      "source": [
        "### Evaluate model on test set\n",
        "pred = model.predict(X_test_vec)\n",
        "print(classification_report(y_test, pred, target_names = ['negatif', 'netral', 'positif']))"
      ]
    },
    {
      "cell_type": "code",
      "execution_count": 77,
      "id": "2228634a",
      "metadata": {
        "colab": {
          "base_uri": "https://localhost:8080/"
        },
        "id": "2228634a",
        "outputId": "6c2e5f49-2847-426f-df2f-be116727dc24"
      },
      "outputs": [
        {
          "output_type": "execute_result",
          "data": {
            "text/plain": [
              "{'bootstrap': True,\n",
              " 'ccp_alpha': 0.0,\n",
              " 'class_weight': None,\n",
              " 'criterion': 'gini',\n",
              " 'max_depth': None,\n",
              " 'max_features': 'sqrt',\n",
              " 'max_leaf_nodes': None,\n",
              " 'max_samples': None,\n",
              " 'min_impurity_decrease': 0.0,\n",
              " 'min_samples_leaf': 1,\n",
              " 'min_samples_split': 2,\n",
              " 'min_weight_fraction_leaf': 0.0,\n",
              " 'n_estimators': 100,\n",
              " 'n_jobs': None,\n",
              " 'oob_score': False,\n",
              " 'random_state': None,\n",
              " 'verbose': 0,\n",
              " 'warm_start': False}"
            ]
          },
          "metadata": {},
          "execution_count": 77
        }
      ],
      "source": [
        "## Overview parameters baseline\n",
        "model.get_params()"
      ]
    },
    {
      "cell_type": "markdown",
      "id": "e615cb97",
      "metadata": {
        "id": "e615cb97"
      },
      "source": [
        "## **4.1.1 Random Forest Parameter Tuning**"
      ]
    },
    {
      "cell_type": "code",
      "execution_count": 78,
      "id": "3fba60bd",
      "metadata": {
        "id": "3fba60bd"
      },
      "outputs": [],
      "source": [
        "## Define parameter used for tuning\n",
        "params = {\n",
        "    \"n_estimators\" : [100, 300, 500],\n",
        "    \"max_depth\"    : [5, 10, 15],\n",
        "    \"max_features\" : ['auto', 'sqrt'],\n",
        "    \"n_jobs\"       : [-1]\n",
        "}"
      ]
    },
    {
      "cell_type": "code",
      "execution_count": 79,
      "id": "fb7a4f2a",
      "metadata": {
        "colab": {
          "base_uri": "https://localhost:8080/",
          "height": 1000
        },
        "id": "fb7a4f2a",
        "outputId": "2158d27d-90c7-474f-a303-169b6b993157"
      },
      "outputs": [
        {
          "output_type": "stream",
          "name": "stdout",
          "text": [
            "Fitting 5 folds for each of 18 candidates, totalling 90 fits\n"
          ]
        },
        {
          "output_type": "stream",
          "name": "stderr",
          "text": [
            "/usr/local/lib/python3.10/dist-packages/sklearn/ensemble/_forest.py:424: FutureWarning: `max_features='auto'` has been deprecated in 1.1 and will be removed in 1.3. To keep the past behaviour, explicitly set `max_features='sqrt'` or remove this parameter as it is also the default value for RandomForestClassifiers and ExtraTreesClassifiers.\n",
            "  warn(\n",
            "/usr/local/lib/python3.10/dist-packages/sklearn/ensemble/_forest.py:424: FutureWarning: `max_features='auto'` has been deprecated in 1.1 and will be removed in 1.3. To keep the past behaviour, explicitly set `max_features='sqrt'` or remove this parameter as it is also the default value for RandomForestClassifiers and ExtraTreesClassifiers.\n",
            "  warn(\n",
            "/usr/local/lib/python3.10/dist-packages/sklearn/ensemble/_forest.py:424: FutureWarning: `max_features='auto'` has been deprecated in 1.1 and will be removed in 1.3. To keep the past behaviour, explicitly set `max_features='sqrt'` or remove this parameter as it is also the default value for RandomForestClassifiers and ExtraTreesClassifiers.\n",
            "  warn(\n",
            "/usr/local/lib/python3.10/dist-packages/sklearn/ensemble/_forest.py:424: FutureWarning: `max_features='auto'` has been deprecated in 1.1 and will be removed in 1.3. To keep the past behaviour, explicitly set `max_features='sqrt'` or remove this parameter as it is also the default value for RandomForestClassifiers and ExtraTreesClassifiers.\n",
            "  warn(\n",
            "/usr/local/lib/python3.10/dist-packages/sklearn/ensemble/_forest.py:424: FutureWarning: `max_features='auto'` has been deprecated in 1.1 and will be removed in 1.3. To keep the past behaviour, explicitly set `max_features='sqrt'` or remove this parameter as it is also the default value for RandomForestClassifiers and ExtraTreesClassifiers.\n",
            "  warn(\n",
            "/usr/local/lib/python3.10/dist-packages/sklearn/ensemble/_forest.py:424: FutureWarning: `max_features='auto'` has been deprecated in 1.1 and will be removed in 1.3. To keep the past behaviour, explicitly set `max_features='sqrt'` or remove this parameter as it is also the default value for RandomForestClassifiers and ExtraTreesClassifiers.\n",
            "  warn(\n",
            "/usr/local/lib/python3.10/dist-packages/sklearn/ensemble/_forest.py:424: FutureWarning: `max_features='auto'` has been deprecated in 1.1 and will be removed in 1.3. To keep the past behaviour, explicitly set `max_features='sqrt'` or remove this parameter as it is also the default value for RandomForestClassifiers and ExtraTreesClassifiers.\n",
            "  warn(\n",
            "/usr/local/lib/python3.10/dist-packages/sklearn/ensemble/_forest.py:424: FutureWarning: `max_features='auto'` has been deprecated in 1.1 and will be removed in 1.3. To keep the past behaviour, explicitly set `max_features='sqrt'` or remove this parameter as it is also the default value for RandomForestClassifiers and ExtraTreesClassifiers.\n",
            "  warn(\n",
            "/usr/local/lib/python3.10/dist-packages/sklearn/ensemble/_forest.py:424: FutureWarning: `max_features='auto'` has been deprecated in 1.1 and will be removed in 1.3. To keep the past behaviour, explicitly set `max_features='sqrt'` or remove this parameter as it is also the default value for RandomForestClassifiers and ExtraTreesClassifiers.\n",
            "  warn(\n",
            "/usr/local/lib/python3.10/dist-packages/sklearn/ensemble/_forest.py:424: FutureWarning: `max_features='auto'` has been deprecated in 1.1 and will be removed in 1.3. To keep the past behaviour, explicitly set `max_features='sqrt'` or remove this parameter as it is also the default value for RandomForestClassifiers and ExtraTreesClassifiers.\n",
            "  warn(\n",
            "/usr/local/lib/python3.10/dist-packages/sklearn/ensemble/_forest.py:424: FutureWarning: `max_features='auto'` has been deprecated in 1.1 and will be removed in 1.3. To keep the past behaviour, explicitly set `max_features='sqrt'` or remove this parameter as it is also the default value for RandomForestClassifiers and ExtraTreesClassifiers.\n",
            "  warn(\n",
            "/usr/local/lib/python3.10/dist-packages/sklearn/ensemble/_forest.py:424: FutureWarning: `max_features='auto'` has been deprecated in 1.1 and will be removed in 1.3. To keep the past behaviour, explicitly set `max_features='sqrt'` or remove this parameter as it is also the default value for RandomForestClassifiers and ExtraTreesClassifiers.\n",
            "  warn(\n",
            "/usr/local/lib/python3.10/dist-packages/sklearn/ensemble/_forest.py:424: FutureWarning: `max_features='auto'` has been deprecated in 1.1 and will be removed in 1.3. To keep the past behaviour, explicitly set `max_features='sqrt'` or remove this parameter as it is also the default value for RandomForestClassifiers and ExtraTreesClassifiers.\n",
            "  warn(\n",
            "/usr/local/lib/python3.10/dist-packages/sklearn/ensemble/_forest.py:424: FutureWarning: `max_features='auto'` has been deprecated in 1.1 and will be removed in 1.3. To keep the past behaviour, explicitly set `max_features='sqrt'` or remove this parameter as it is also the default value for RandomForestClassifiers and ExtraTreesClassifiers.\n",
            "  warn(\n",
            "/usr/local/lib/python3.10/dist-packages/sklearn/ensemble/_forest.py:424: FutureWarning: `max_features='auto'` has been deprecated in 1.1 and will be removed in 1.3. To keep the past behaviour, explicitly set `max_features='sqrt'` or remove this parameter as it is also the default value for RandomForestClassifiers and ExtraTreesClassifiers.\n",
            "  warn(\n",
            "/usr/local/lib/python3.10/dist-packages/sklearn/ensemble/_forest.py:424: FutureWarning: `max_features='auto'` has been deprecated in 1.1 and will be removed in 1.3. To keep the past behaviour, explicitly set `max_features='sqrt'` or remove this parameter as it is also the default value for RandomForestClassifiers and ExtraTreesClassifiers.\n",
            "  warn(\n",
            "/usr/local/lib/python3.10/dist-packages/sklearn/ensemble/_forest.py:424: FutureWarning: `max_features='auto'` has been deprecated in 1.1 and will be removed in 1.3. To keep the past behaviour, explicitly set `max_features='sqrt'` or remove this parameter as it is also the default value for RandomForestClassifiers and ExtraTreesClassifiers.\n",
            "  warn(\n",
            "/usr/local/lib/python3.10/dist-packages/sklearn/ensemble/_forest.py:424: FutureWarning: `max_features='auto'` has been deprecated in 1.1 and will be removed in 1.3. To keep the past behaviour, explicitly set `max_features='sqrt'` or remove this parameter as it is also the default value for RandomForestClassifiers and ExtraTreesClassifiers.\n",
            "  warn(\n",
            "/usr/local/lib/python3.10/dist-packages/sklearn/ensemble/_forest.py:424: FutureWarning: `max_features='auto'` has been deprecated in 1.1 and will be removed in 1.3. To keep the past behaviour, explicitly set `max_features='sqrt'` or remove this parameter as it is also the default value for RandomForestClassifiers and ExtraTreesClassifiers.\n",
            "  warn(\n",
            "/usr/local/lib/python3.10/dist-packages/sklearn/ensemble/_forest.py:424: FutureWarning: `max_features='auto'` has been deprecated in 1.1 and will be removed in 1.3. To keep the past behaviour, explicitly set `max_features='sqrt'` or remove this parameter as it is also the default value for RandomForestClassifiers and ExtraTreesClassifiers.\n",
            "  warn(\n",
            "/usr/local/lib/python3.10/dist-packages/sklearn/ensemble/_forest.py:424: FutureWarning: `max_features='auto'` has been deprecated in 1.1 and will be removed in 1.3. To keep the past behaviour, explicitly set `max_features='sqrt'` or remove this parameter as it is also the default value for RandomForestClassifiers and ExtraTreesClassifiers.\n",
            "  warn(\n",
            "/usr/local/lib/python3.10/dist-packages/sklearn/ensemble/_forest.py:424: FutureWarning: `max_features='auto'` has been deprecated in 1.1 and will be removed in 1.3. To keep the past behaviour, explicitly set `max_features='sqrt'` or remove this parameter as it is also the default value for RandomForestClassifiers and ExtraTreesClassifiers.\n",
            "  warn(\n",
            "/usr/local/lib/python3.10/dist-packages/sklearn/ensemble/_forest.py:424: FutureWarning: `max_features='auto'` has been deprecated in 1.1 and will be removed in 1.3. To keep the past behaviour, explicitly set `max_features='sqrt'` or remove this parameter as it is also the default value for RandomForestClassifiers and ExtraTreesClassifiers.\n",
            "  warn(\n",
            "/usr/local/lib/python3.10/dist-packages/sklearn/ensemble/_forest.py:424: FutureWarning: `max_features='auto'` has been deprecated in 1.1 and will be removed in 1.3. To keep the past behaviour, explicitly set `max_features='sqrt'` or remove this parameter as it is also the default value for RandomForestClassifiers and ExtraTreesClassifiers.\n",
            "  warn(\n",
            "/usr/local/lib/python3.10/dist-packages/sklearn/ensemble/_forest.py:424: FutureWarning: `max_features='auto'` has been deprecated in 1.1 and will be removed in 1.3. To keep the past behaviour, explicitly set `max_features='sqrt'` or remove this parameter as it is also the default value for RandomForestClassifiers and ExtraTreesClassifiers.\n",
            "  warn(\n",
            "/usr/local/lib/python3.10/dist-packages/sklearn/ensemble/_forest.py:424: FutureWarning: `max_features='auto'` has been deprecated in 1.1 and will be removed in 1.3. To keep the past behaviour, explicitly set `max_features='sqrt'` or remove this parameter as it is also the default value for RandomForestClassifiers and ExtraTreesClassifiers.\n",
            "  warn(\n",
            "/usr/local/lib/python3.10/dist-packages/sklearn/ensemble/_forest.py:424: FutureWarning: `max_features='auto'` has been deprecated in 1.1 and will be removed in 1.3. To keep the past behaviour, explicitly set `max_features='sqrt'` or remove this parameter as it is also the default value for RandomForestClassifiers and ExtraTreesClassifiers.\n",
            "  warn(\n",
            "/usr/local/lib/python3.10/dist-packages/sklearn/ensemble/_forest.py:424: FutureWarning: `max_features='auto'` has been deprecated in 1.1 and will be removed in 1.3. To keep the past behaviour, explicitly set `max_features='sqrt'` or remove this parameter as it is also the default value for RandomForestClassifiers and ExtraTreesClassifiers.\n",
            "  warn(\n",
            "/usr/local/lib/python3.10/dist-packages/sklearn/ensemble/_forest.py:424: FutureWarning: `max_features='auto'` has been deprecated in 1.1 and will be removed in 1.3. To keep the past behaviour, explicitly set `max_features='sqrt'` or remove this parameter as it is also the default value for RandomForestClassifiers and ExtraTreesClassifiers.\n",
            "  warn(\n",
            "/usr/local/lib/python3.10/dist-packages/sklearn/ensemble/_forest.py:424: FutureWarning: `max_features='auto'` has been deprecated in 1.1 and will be removed in 1.3. To keep the past behaviour, explicitly set `max_features='sqrt'` or remove this parameter as it is also the default value for RandomForestClassifiers and ExtraTreesClassifiers.\n",
            "  warn(\n",
            "/usr/local/lib/python3.10/dist-packages/sklearn/ensemble/_forest.py:424: FutureWarning: `max_features='auto'` has been deprecated in 1.1 and will be removed in 1.3. To keep the past behaviour, explicitly set `max_features='sqrt'` or remove this parameter as it is also the default value for RandomForestClassifiers and ExtraTreesClassifiers.\n",
            "  warn(\n",
            "/usr/local/lib/python3.10/dist-packages/sklearn/ensemble/_forest.py:424: FutureWarning: `max_features='auto'` has been deprecated in 1.1 and will be removed in 1.3. To keep the past behaviour, explicitly set `max_features='sqrt'` or remove this parameter as it is also the default value for RandomForestClassifiers and ExtraTreesClassifiers.\n",
            "  warn(\n",
            "/usr/local/lib/python3.10/dist-packages/sklearn/ensemble/_forest.py:424: FutureWarning: `max_features='auto'` has been deprecated in 1.1 and will be removed in 1.3. To keep the past behaviour, explicitly set `max_features='sqrt'` or remove this parameter as it is also the default value for RandomForestClassifiers and ExtraTreesClassifiers.\n",
            "  warn(\n",
            "/usr/local/lib/python3.10/dist-packages/sklearn/ensemble/_forest.py:424: FutureWarning: `max_features='auto'` has been deprecated in 1.1 and will be removed in 1.3. To keep the past behaviour, explicitly set `max_features='sqrt'` or remove this parameter as it is also the default value for RandomForestClassifiers and ExtraTreesClassifiers.\n",
            "  warn(\n",
            "/usr/local/lib/python3.10/dist-packages/sklearn/ensemble/_forest.py:424: FutureWarning: `max_features='auto'` has been deprecated in 1.1 and will be removed in 1.3. To keep the past behaviour, explicitly set `max_features='sqrt'` or remove this parameter as it is also the default value for RandomForestClassifiers and ExtraTreesClassifiers.\n",
            "  warn(\n",
            "/usr/local/lib/python3.10/dist-packages/sklearn/ensemble/_forest.py:424: FutureWarning: `max_features='auto'` has been deprecated in 1.1 and will be removed in 1.3. To keep the past behaviour, explicitly set `max_features='sqrt'` or remove this parameter as it is also the default value for RandomForestClassifiers and ExtraTreesClassifiers.\n",
            "  warn(\n",
            "/usr/local/lib/python3.10/dist-packages/sklearn/ensemble/_forest.py:424: FutureWarning: `max_features='auto'` has been deprecated in 1.1 and will be removed in 1.3. To keep the past behaviour, explicitly set `max_features='sqrt'` or remove this parameter as it is also the default value for RandomForestClassifiers and ExtraTreesClassifiers.\n",
            "  warn(\n",
            "/usr/local/lib/python3.10/dist-packages/sklearn/ensemble/_forest.py:424: FutureWarning: `max_features='auto'` has been deprecated in 1.1 and will be removed in 1.3. To keep the past behaviour, explicitly set `max_features='sqrt'` or remove this parameter as it is also the default value for RandomForestClassifiers and ExtraTreesClassifiers.\n",
            "  warn(\n",
            "/usr/local/lib/python3.10/dist-packages/sklearn/ensemble/_forest.py:424: FutureWarning: `max_features='auto'` has been deprecated in 1.1 and will be removed in 1.3. To keep the past behaviour, explicitly set `max_features='sqrt'` or remove this parameter as it is also the default value for RandomForestClassifiers and ExtraTreesClassifiers.\n",
            "  warn(\n",
            "/usr/local/lib/python3.10/dist-packages/sklearn/ensemble/_forest.py:424: FutureWarning: `max_features='auto'` has been deprecated in 1.1 and will be removed in 1.3. To keep the past behaviour, explicitly set `max_features='sqrt'` or remove this parameter as it is also the default value for RandomForestClassifiers and ExtraTreesClassifiers.\n",
            "  warn(\n",
            "/usr/local/lib/python3.10/dist-packages/sklearn/ensemble/_forest.py:424: FutureWarning: `max_features='auto'` has been deprecated in 1.1 and will be removed in 1.3. To keep the past behaviour, explicitly set `max_features='sqrt'` or remove this parameter as it is also the default value for RandomForestClassifiers and ExtraTreesClassifiers.\n",
            "  warn(\n",
            "/usr/local/lib/python3.10/dist-packages/sklearn/ensemble/_forest.py:424: FutureWarning: `max_features='auto'` has been deprecated in 1.1 and will be removed in 1.3. To keep the past behaviour, explicitly set `max_features='sqrt'` or remove this parameter as it is also the default value for RandomForestClassifiers and ExtraTreesClassifiers.\n",
            "  warn(\n",
            "/usr/local/lib/python3.10/dist-packages/sklearn/ensemble/_forest.py:424: FutureWarning: `max_features='auto'` has been deprecated in 1.1 and will be removed in 1.3. To keep the past behaviour, explicitly set `max_features='sqrt'` or remove this parameter as it is also the default value for RandomForestClassifiers and ExtraTreesClassifiers.\n",
            "  warn(\n",
            "/usr/local/lib/python3.10/dist-packages/sklearn/ensemble/_forest.py:424: FutureWarning: `max_features='auto'` has been deprecated in 1.1 and will be removed in 1.3. To keep the past behaviour, explicitly set `max_features='sqrt'` or remove this parameter as it is also the default value for RandomForestClassifiers and ExtraTreesClassifiers.\n",
            "  warn(\n",
            "/usr/local/lib/python3.10/dist-packages/sklearn/ensemble/_forest.py:424: FutureWarning: `max_features='auto'` has been deprecated in 1.1 and will be removed in 1.3. To keep the past behaviour, explicitly set `max_features='sqrt'` or remove this parameter as it is also the default value for RandomForestClassifiers and ExtraTreesClassifiers.\n",
            "  warn(\n"
          ]
        },
        {
          "output_type": "execute_result",
          "data": {
            "text/plain": [
              "GridSearchCV(cv=5, estimator=RandomForestClassifier(),\n",
              "             param_grid={'max_depth': [5, 10, 15],\n",
              "                         'max_features': ['auto', 'sqrt'],\n",
              "                         'n_estimators': [100, 300, 500], 'n_jobs': [-1]},\n",
              "             verbose=1)"
            ],
            "text/html": [
              "<style>#sk-container-id-5 {color: black;background-color: white;}#sk-container-id-5 pre{padding: 0;}#sk-container-id-5 div.sk-toggleable {background-color: white;}#sk-container-id-5 label.sk-toggleable__label {cursor: pointer;display: block;width: 100%;margin-bottom: 0;padding: 0.3em;box-sizing: border-box;text-align: center;}#sk-container-id-5 label.sk-toggleable__label-arrow:before {content: \"▸\";float: left;margin-right: 0.25em;color: #696969;}#sk-container-id-5 label.sk-toggleable__label-arrow:hover:before {color: black;}#sk-container-id-5 div.sk-estimator:hover label.sk-toggleable__label-arrow:before {color: black;}#sk-container-id-5 div.sk-toggleable__content {max-height: 0;max-width: 0;overflow: hidden;text-align: left;background-color: #f0f8ff;}#sk-container-id-5 div.sk-toggleable__content pre {margin: 0.2em;color: black;border-radius: 0.25em;background-color: #f0f8ff;}#sk-container-id-5 input.sk-toggleable__control:checked~div.sk-toggleable__content {max-height: 200px;max-width: 100%;overflow: auto;}#sk-container-id-5 input.sk-toggleable__control:checked~label.sk-toggleable__label-arrow:before {content: \"▾\";}#sk-container-id-5 div.sk-estimator input.sk-toggleable__control:checked~label.sk-toggleable__label {background-color: #d4ebff;}#sk-container-id-5 div.sk-label input.sk-toggleable__control:checked~label.sk-toggleable__label {background-color: #d4ebff;}#sk-container-id-5 input.sk-hidden--visually {border: 0;clip: rect(1px 1px 1px 1px);clip: rect(1px, 1px, 1px, 1px);height: 1px;margin: -1px;overflow: hidden;padding: 0;position: absolute;width: 1px;}#sk-container-id-5 div.sk-estimator {font-family: monospace;background-color: #f0f8ff;border: 1px dotted black;border-radius: 0.25em;box-sizing: border-box;margin-bottom: 0.5em;}#sk-container-id-5 div.sk-estimator:hover {background-color: #d4ebff;}#sk-container-id-5 div.sk-parallel-item::after {content: \"\";width: 100%;border-bottom: 1px solid gray;flex-grow: 1;}#sk-container-id-5 div.sk-label:hover label.sk-toggleable__label {background-color: #d4ebff;}#sk-container-id-5 div.sk-serial::before {content: \"\";position: absolute;border-left: 1px solid gray;box-sizing: border-box;top: 0;bottom: 0;left: 50%;z-index: 0;}#sk-container-id-5 div.sk-serial {display: flex;flex-direction: column;align-items: center;background-color: white;padding-right: 0.2em;padding-left: 0.2em;position: relative;}#sk-container-id-5 div.sk-item {position: relative;z-index: 1;}#sk-container-id-5 div.sk-parallel {display: flex;align-items: stretch;justify-content: center;background-color: white;position: relative;}#sk-container-id-5 div.sk-item::before, #sk-container-id-5 div.sk-parallel-item::before {content: \"\";position: absolute;border-left: 1px solid gray;box-sizing: border-box;top: 0;bottom: 0;left: 50%;z-index: -1;}#sk-container-id-5 div.sk-parallel-item {display: flex;flex-direction: column;z-index: 1;position: relative;background-color: white;}#sk-container-id-5 div.sk-parallel-item:first-child::after {align-self: flex-end;width: 50%;}#sk-container-id-5 div.sk-parallel-item:last-child::after {align-self: flex-start;width: 50%;}#sk-container-id-5 div.sk-parallel-item:only-child::after {width: 0;}#sk-container-id-5 div.sk-dashed-wrapped {border: 1px dashed gray;margin: 0 0.4em 0.5em 0.4em;box-sizing: border-box;padding-bottom: 0.4em;background-color: white;}#sk-container-id-5 div.sk-label label {font-family: monospace;font-weight: bold;display: inline-block;line-height: 1.2em;}#sk-container-id-5 div.sk-label-container {text-align: center;}#sk-container-id-5 div.sk-container {/* jupyter's `normalize.less` sets `[hidden] { display: none; }` but bootstrap.min.css set `[hidden] { display: none !important; }` so we also need the `!important` here to be able to override the default hidden behavior on the sphinx rendered scikit-learn.org. See: https://github.com/scikit-learn/scikit-learn/issues/21755 */display: inline-block !important;position: relative;}#sk-container-id-5 div.sk-text-repr-fallback {display: none;}</style><div id=\"sk-container-id-5\" class=\"sk-top-container\"><div class=\"sk-text-repr-fallback\"><pre>GridSearchCV(cv=5, estimator=RandomForestClassifier(),\n",
              "             param_grid={&#x27;max_depth&#x27;: [5, 10, 15],\n",
              "                         &#x27;max_features&#x27;: [&#x27;auto&#x27;, &#x27;sqrt&#x27;],\n",
              "                         &#x27;n_estimators&#x27;: [100, 300, 500], &#x27;n_jobs&#x27;: [-1]},\n",
              "             verbose=1)</pre><b>In a Jupyter environment, please rerun this cell to show the HTML representation or trust the notebook. <br />On GitHub, the HTML representation is unable to render, please try loading this page with nbviewer.org.</b></div><div class=\"sk-container\" hidden><div class=\"sk-item sk-dashed-wrapped\"><div class=\"sk-label-container\"><div class=\"sk-label sk-toggleable\"><input class=\"sk-toggleable__control sk-hidden--visually\" id=\"sk-estimator-id-5\" type=\"checkbox\" ><label for=\"sk-estimator-id-5\" class=\"sk-toggleable__label sk-toggleable__label-arrow\">GridSearchCV</label><div class=\"sk-toggleable__content\"><pre>GridSearchCV(cv=5, estimator=RandomForestClassifier(),\n",
              "             param_grid={&#x27;max_depth&#x27;: [5, 10, 15],\n",
              "                         &#x27;max_features&#x27;: [&#x27;auto&#x27;, &#x27;sqrt&#x27;],\n",
              "                         &#x27;n_estimators&#x27;: [100, 300, 500], &#x27;n_jobs&#x27;: [-1]},\n",
              "             verbose=1)</pre></div></div></div><div class=\"sk-parallel\"><div class=\"sk-parallel-item\"><div class=\"sk-item\"><div class=\"sk-label-container\"><div class=\"sk-label sk-toggleable\"><input class=\"sk-toggleable__control sk-hidden--visually\" id=\"sk-estimator-id-6\" type=\"checkbox\" ><label for=\"sk-estimator-id-6\" class=\"sk-toggleable__label sk-toggleable__label-arrow\">estimator: RandomForestClassifier</label><div class=\"sk-toggleable__content\"><pre>RandomForestClassifier()</pre></div></div></div><div class=\"sk-serial\"><div class=\"sk-item\"><div class=\"sk-estimator sk-toggleable\"><input class=\"sk-toggleable__control sk-hidden--visually\" id=\"sk-estimator-id-7\" type=\"checkbox\" ><label for=\"sk-estimator-id-7\" class=\"sk-toggleable__label sk-toggleable__label-arrow\">RandomForestClassifier</label><div class=\"sk-toggleable__content\"><pre>RandomForestClassifier()</pre></div></div></div></div></div></div></div></div></div></div>"
            ]
          },
          "metadata": {},
          "execution_count": 79
        }
      ],
      "source": [
        "## Define object\n",
        "grid_search = GridSearchCV(\n",
        "    estimator = model, param_grid = params,\n",
        "    cv = 5, verbose = 1\n",
        ")\n",
        "grid_search.fit(X_train_vec, y_train)"
      ]
    },
    {
      "cell_type": "code",
      "execution_count": 80,
      "id": "ef1ff344",
      "metadata": {
        "colab": {
          "base_uri": "https://localhost:8080/",
          "height": 530
        },
        "id": "ef1ff344",
        "outputId": "a86ca02b-9231-4c28-c8e2-2059e1ccd00e"
      },
      "outputs": [
        {
          "output_type": "execute_result",
          "data": {
            "text/plain": [
              "    mean_fit_time  std_fit_time  mean_score_time  std_score_time  \\\n",
              "17       1.926889      0.269729         0.128123        0.020978   \n",
              "14       1.974570      0.425489         0.138267        0.023381   \n",
              "8        2.148470      0.716042         0.131695        0.018662   \n",
              "7        1.280404      0.381593         0.102348        0.026995   \n",
              "11       1.562080      0.249029         0.115615        0.012263   \n",
              "\n",
              "   param_max_depth param_max_features param_n_estimators param_n_jobs  \\\n",
              "17              15               sqrt                500           -1   \n",
              "14              15               auto                500           -1   \n",
              "8               10               auto                500           -1   \n",
              "7               10               auto                300           -1   \n",
              "11              10               sqrt                500           -1   \n",
              "\n",
              "                                               params  split0_test_score  \\\n",
              "17  {'max_depth': 15, 'max_features': 'sqrt', 'n_e...           0.615120   \n",
              "14  {'max_depth': 15, 'max_features': 'auto', 'n_e...           0.584192   \n",
              "8   {'max_depth': 10, 'max_features': 'auto', 'n_e...           0.597938   \n",
              "7   {'max_depth': 10, 'max_features': 'auto', 'n_e...           0.615120   \n",
              "11  {'max_depth': 10, 'max_features': 'sqrt', 'n_e...           0.601375   \n",
              "\n",
              "    split1_test_score  split2_test_score  split3_test_score  \\\n",
              "17           0.580756           0.596552           0.548276   \n",
              "14           0.570447           0.589655           0.568966   \n",
              "8            0.567010           0.596552           0.558621   \n",
              "7            0.584192           0.593103           0.541379   \n",
              "11           0.563574           0.593103           0.541379   \n",
              "\n",
              "    split4_test_score  mean_test_score  std_test_score  rank_test_score  \n",
              "17           0.555172         0.579175        0.025010                1  \n",
              "14           0.575862         0.577824        0.007966                2  \n",
              "8            0.568966         0.577817        0.016245                3  \n",
              "7            0.555172         0.577794        0.026481                4  \n",
              "11           0.568966         0.573679        0.021503                5  "
            ],
            "text/html": [
              "\n",
              "\n",
              "  <div id=\"df-c01018bb-fe33-4aa4-aa95-010bc5b286be\">\n",
              "    <div class=\"colab-df-container\">\n",
              "      <div>\n",
              "<style scoped>\n",
              "    .dataframe tbody tr th:only-of-type {\n",
              "        vertical-align: middle;\n",
              "    }\n",
              "\n",
              "    .dataframe tbody tr th {\n",
              "        vertical-align: top;\n",
              "    }\n",
              "\n",
              "    .dataframe thead th {\n",
              "        text-align: right;\n",
              "    }\n",
              "</style>\n",
              "<table border=\"1\" class=\"dataframe\">\n",
              "  <thead>\n",
              "    <tr style=\"text-align: right;\">\n",
              "      <th></th>\n",
              "      <th>mean_fit_time</th>\n",
              "      <th>std_fit_time</th>\n",
              "      <th>mean_score_time</th>\n",
              "      <th>std_score_time</th>\n",
              "      <th>param_max_depth</th>\n",
              "      <th>param_max_features</th>\n",
              "      <th>param_n_estimators</th>\n",
              "      <th>param_n_jobs</th>\n",
              "      <th>params</th>\n",
              "      <th>split0_test_score</th>\n",
              "      <th>split1_test_score</th>\n",
              "      <th>split2_test_score</th>\n",
              "      <th>split3_test_score</th>\n",
              "      <th>split4_test_score</th>\n",
              "      <th>mean_test_score</th>\n",
              "      <th>std_test_score</th>\n",
              "      <th>rank_test_score</th>\n",
              "    </tr>\n",
              "  </thead>\n",
              "  <tbody>\n",
              "    <tr>\n",
              "      <th>17</th>\n",
              "      <td>1.926889</td>\n",
              "      <td>0.269729</td>\n",
              "      <td>0.128123</td>\n",
              "      <td>0.020978</td>\n",
              "      <td>15</td>\n",
              "      <td>sqrt</td>\n",
              "      <td>500</td>\n",
              "      <td>-1</td>\n",
              "      <td>{'max_depth': 15, 'max_features': 'sqrt', 'n_e...</td>\n",
              "      <td>0.615120</td>\n",
              "      <td>0.580756</td>\n",
              "      <td>0.596552</td>\n",
              "      <td>0.548276</td>\n",
              "      <td>0.555172</td>\n",
              "      <td>0.579175</td>\n",
              "      <td>0.025010</td>\n",
              "      <td>1</td>\n",
              "    </tr>\n",
              "    <tr>\n",
              "      <th>14</th>\n",
              "      <td>1.974570</td>\n",
              "      <td>0.425489</td>\n",
              "      <td>0.138267</td>\n",
              "      <td>0.023381</td>\n",
              "      <td>15</td>\n",
              "      <td>auto</td>\n",
              "      <td>500</td>\n",
              "      <td>-1</td>\n",
              "      <td>{'max_depth': 15, 'max_features': 'auto', 'n_e...</td>\n",
              "      <td>0.584192</td>\n",
              "      <td>0.570447</td>\n",
              "      <td>0.589655</td>\n",
              "      <td>0.568966</td>\n",
              "      <td>0.575862</td>\n",
              "      <td>0.577824</td>\n",
              "      <td>0.007966</td>\n",
              "      <td>2</td>\n",
              "    </tr>\n",
              "    <tr>\n",
              "      <th>8</th>\n",
              "      <td>2.148470</td>\n",
              "      <td>0.716042</td>\n",
              "      <td>0.131695</td>\n",
              "      <td>0.018662</td>\n",
              "      <td>10</td>\n",
              "      <td>auto</td>\n",
              "      <td>500</td>\n",
              "      <td>-1</td>\n",
              "      <td>{'max_depth': 10, 'max_features': 'auto', 'n_e...</td>\n",
              "      <td>0.597938</td>\n",
              "      <td>0.567010</td>\n",
              "      <td>0.596552</td>\n",
              "      <td>0.558621</td>\n",
              "      <td>0.568966</td>\n",
              "      <td>0.577817</td>\n",
              "      <td>0.016245</td>\n",
              "      <td>3</td>\n",
              "    </tr>\n",
              "    <tr>\n",
              "      <th>7</th>\n",
              "      <td>1.280404</td>\n",
              "      <td>0.381593</td>\n",
              "      <td>0.102348</td>\n",
              "      <td>0.026995</td>\n",
              "      <td>10</td>\n",
              "      <td>auto</td>\n",
              "      <td>300</td>\n",
              "      <td>-1</td>\n",
              "      <td>{'max_depth': 10, 'max_features': 'auto', 'n_e...</td>\n",
              "      <td>0.615120</td>\n",
              "      <td>0.584192</td>\n",
              "      <td>0.593103</td>\n",
              "      <td>0.541379</td>\n",
              "      <td>0.555172</td>\n",
              "      <td>0.577794</td>\n",
              "      <td>0.026481</td>\n",
              "      <td>4</td>\n",
              "    </tr>\n",
              "    <tr>\n",
              "      <th>11</th>\n",
              "      <td>1.562080</td>\n",
              "      <td>0.249029</td>\n",
              "      <td>0.115615</td>\n",
              "      <td>0.012263</td>\n",
              "      <td>10</td>\n",
              "      <td>sqrt</td>\n",
              "      <td>500</td>\n",
              "      <td>-1</td>\n",
              "      <td>{'max_depth': 10, 'max_features': 'sqrt', 'n_e...</td>\n",
              "      <td>0.601375</td>\n",
              "      <td>0.563574</td>\n",
              "      <td>0.593103</td>\n",
              "      <td>0.541379</td>\n",
              "      <td>0.568966</td>\n",
              "      <td>0.573679</td>\n",
              "      <td>0.021503</td>\n",
              "      <td>5</td>\n",
              "    </tr>\n",
              "  </tbody>\n",
              "</table>\n",
              "</div>\n",
              "      <button class=\"colab-df-convert\" onclick=\"convertToInteractive('df-c01018bb-fe33-4aa4-aa95-010bc5b286be')\"\n",
              "              title=\"Convert this dataframe to an interactive table.\"\n",
              "              style=\"display:none;\">\n",
              "\n",
              "  <svg xmlns=\"http://www.w3.org/2000/svg\" height=\"24px\"viewBox=\"0 0 24 24\"\n",
              "       width=\"24px\">\n",
              "    <path d=\"M0 0h24v24H0V0z\" fill=\"none\"/>\n",
              "    <path d=\"M18.56 5.44l.94 2.06.94-2.06 2.06-.94-2.06-.94-.94-2.06-.94 2.06-2.06.94zm-11 1L8.5 8.5l.94-2.06 2.06-.94-2.06-.94L8.5 2.5l-.94 2.06-2.06.94zm10 10l.94 2.06.94-2.06 2.06-.94-2.06-.94-.94-2.06-.94 2.06-2.06.94z\"/><path d=\"M17.41 7.96l-1.37-1.37c-.4-.4-.92-.59-1.43-.59-.52 0-1.04.2-1.43.59L10.3 9.45l-7.72 7.72c-.78.78-.78 2.05 0 2.83L4 21.41c.39.39.9.59 1.41.59.51 0 1.02-.2 1.41-.59l7.78-7.78 2.81-2.81c.8-.78.8-2.07 0-2.86zM5.41 20L4 18.59l7.72-7.72 1.47 1.35L5.41 20z\"/>\n",
              "  </svg>\n",
              "      </button>\n",
              "\n",
              "\n",
              "\n",
              "    <div id=\"df-66ccdd7c-9d91-4651-820a-a515fe879a9f\">\n",
              "      <button class=\"colab-df-quickchart\" onclick=\"quickchart('df-66ccdd7c-9d91-4651-820a-a515fe879a9f')\"\n",
              "              title=\"Suggest charts.\"\n",
              "              style=\"display:none;\">\n",
              "\n",
              "<svg xmlns=\"http://www.w3.org/2000/svg\" height=\"24px\"viewBox=\"0 0 24 24\"\n",
              "     width=\"24px\">\n",
              "    <g>\n",
              "        <path d=\"M19 3H5c-1.1 0-2 .9-2 2v14c0 1.1.9 2 2 2h14c1.1 0 2-.9 2-2V5c0-1.1-.9-2-2-2zM9 17H7v-7h2v7zm4 0h-2V7h2v10zm4 0h-2v-4h2v4z\"/>\n",
              "    </g>\n",
              "</svg>\n",
              "      </button>\n",
              "    </div>\n",
              "\n",
              "<style>\n",
              "  .colab-df-quickchart {\n",
              "    background-color: #E8F0FE;\n",
              "    border: none;\n",
              "    border-radius: 50%;\n",
              "    cursor: pointer;\n",
              "    display: none;\n",
              "    fill: #1967D2;\n",
              "    height: 32px;\n",
              "    padding: 0 0 0 0;\n",
              "    width: 32px;\n",
              "  }\n",
              "\n",
              "  .colab-df-quickchart:hover {\n",
              "    background-color: #E2EBFA;\n",
              "    box-shadow: 0px 1px 2px rgba(60, 64, 67, 0.3), 0px 1px 3px 1px rgba(60, 64, 67, 0.15);\n",
              "    fill: #174EA6;\n",
              "  }\n",
              "\n",
              "  [theme=dark] .colab-df-quickchart {\n",
              "    background-color: #3B4455;\n",
              "    fill: #D2E3FC;\n",
              "  }\n",
              "\n",
              "  [theme=dark] .colab-df-quickchart:hover {\n",
              "    background-color: #434B5C;\n",
              "    box-shadow: 0px 1px 3px 1px rgba(0, 0, 0, 0.15);\n",
              "    filter: drop-shadow(0px 1px 2px rgba(0, 0, 0, 0.3));\n",
              "    fill: #FFFFFF;\n",
              "  }\n",
              "</style>\n",
              "\n",
              "    <script>\n",
              "      async function quickchart(key) {\n",
              "        const containerElement = document.querySelector('#' + key);\n",
              "        const charts = await google.colab.kernel.invokeFunction(\n",
              "            'suggestCharts', [key], {});\n",
              "      }\n",
              "    </script>\n",
              "\n",
              "      <script>\n",
              "\n",
              "function displayQuickchartButton(domScope) {\n",
              "  let quickchartButtonEl =\n",
              "    domScope.querySelector('#df-66ccdd7c-9d91-4651-820a-a515fe879a9f button.colab-df-quickchart');\n",
              "  quickchartButtonEl.style.display =\n",
              "    google.colab.kernel.accessAllowed ? 'block' : 'none';\n",
              "}\n",
              "\n",
              "        displayQuickchartButton(document);\n",
              "      </script>\n",
              "      <style>\n",
              "    .colab-df-container {\n",
              "      display:flex;\n",
              "      flex-wrap:wrap;\n",
              "      gap: 12px;\n",
              "    }\n",
              "\n",
              "    .colab-df-convert {\n",
              "      background-color: #E8F0FE;\n",
              "      border: none;\n",
              "      border-radius: 50%;\n",
              "      cursor: pointer;\n",
              "      display: none;\n",
              "      fill: #1967D2;\n",
              "      height: 32px;\n",
              "      padding: 0 0 0 0;\n",
              "      width: 32px;\n",
              "    }\n",
              "\n",
              "    .colab-df-convert:hover {\n",
              "      background-color: #E2EBFA;\n",
              "      box-shadow: 0px 1px 2px rgba(60, 64, 67, 0.3), 0px 1px 3px 1px rgba(60, 64, 67, 0.15);\n",
              "      fill: #174EA6;\n",
              "    }\n",
              "\n",
              "    [theme=dark] .colab-df-convert {\n",
              "      background-color: #3B4455;\n",
              "      fill: #D2E3FC;\n",
              "    }\n",
              "\n",
              "    [theme=dark] .colab-df-convert:hover {\n",
              "      background-color: #434B5C;\n",
              "      box-shadow: 0px 1px 3px 1px rgba(0, 0, 0, 0.15);\n",
              "      filter: drop-shadow(0px 1px 2px rgba(0, 0, 0, 0.3));\n",
              "      fill: #FFFFFF;\n",
              "    }\n",
              "  </style>\n",
              "\n",
              "      <script>\n",
              "        const buttonEl =\n",
              "          document.querySelector('#df-c01018bb-fe33-4aa4-aa95-010bc5b286be button.colab-df-convert');\n",
              "        buttonEl.style.display =\n",
              "          google.colab.kernel.accessAllowed ? 'block' : 'none';\n",
              "\n",
              "        async function convertToInteractive(key) {\n",
              "          const element = document.querySelector('#df-c01018bb-fe33-4aa4-aa95-010bc5b286be');\n",
              "          const dataTable =\n",
              "            await google.colab.kernel.invokeFunction('convertToInteractive',\n",
              "                                                     [key], {});\n",
              "          if (!dataTable) return;\n",
              "\n",
              "          const docLinkHtml = 'Like what you see? Visit the ' +\n",
              "            '<a target=\"_blank\" href=https://colab.research.google.com/notebooks/data_table.ipynb>data table notebook</a>'\n",
              "            + ' to learn more about interactive tables.';\n",
              "          element.innerHTML = '';\n",
              "          dataTable['output_type'] = 'display_data';\n",
              "          await google.colab.output.renderOutput(dataTable, element);\n",
              "          const docLink = document.createElement('div');\n",
              "          docLink.innerHTML = docLinkHtml;\n",
              "          element.appendChild(docLink);\n",
              "        }\n",
              "      </script>\n",
              "    </div>\n",
              "  </div>\n"
            ]
          },
          "metadata": {},
          "execution_count": 80
        }
      ],
      "source": [
        "## Get parameter tuning metrics and define the best parameters\n",
        "metrics_tuning_forest = pd.DataFrame(grid_search.cv_results_)\n",
        "metrics_tuning_forest = metrics_tuning_forest.sort_values('rank_test_score')\n",
        "metrics_tuning_forest.head()"
      ]
    },
    {
      "cell_type": "code",
      "execution_count": 81,
      "id": "e517e2f9",
      "metadata": {
        "colab": {
          "base_uri": "https://localhost:8080/",
          "height": 469
        },
        "id": "e517e2f9",
        "outputId": "871e78bd-7802-4ded-ff15-3e2dde3eb19d"
      },
      "outputs": [
        {
          "output_type": "display_data",
          "data": {
            "text/plain": [
              "<Figure size 2000x500 with 1 Axes>"
            ],
            "image/png": "[encoded data removed]"
          },
          "metadata": {}
        }
      ],
      "source": [
        "### Visualize metrics and params used\n",
        "plt.figure(figsize = (20, 5))\n",
        "for idx in range(5):\n",
        "    plt.plot(list(range(0, 5)), metrics_tuning_forest.iloc[idx, 9:14], label = f\"Rank {idx + 1}\", linestyle = \"--\")\n",
        "    plt.scatter(list(range(0, 5)), metrics_tuning_forest.iloc[idx, 9:14])\n",
        "plt.legend()\n",
        "plt.title(\"Top 5 Metrics Parameter Tuning on Random Forest\")\n",
        "plt.xticks(list(range(5)), list(map(lambda x: f\"Split Iter {x + 1}\", range(5))))\n",
        "plt.show()"
      ]
    },
    {
      "cell_type": "code",
      "execution_count": 82,
      "id": "90c16c23",
      "metadata": {
        "colab": {
          "base_uri": "https://localhost:8080/"
        },
        "id": "90c16c23",
        "outputId": "c10c9550-447e-4c7f-93f5-cbda8e0dbf63"
      },
      "outputs": [
        {
          "output_type": "execute_result",
          "data": {
            "text/plain": [
              "{'max_depth': 15, 'max_features': 'sqrt', 'n_estimators': 500, 'n_jobs': -1}"
            ]
          },
          "metadata": {},
          "execution_count": 82
        }
      ],
      "source": [
        "### Get Best Parameters\n",
        "grid_search.best_params_"
      ]
    },
    {
      "cell_type": "code",
      "execution_count": 83,
      "id": "b0af5e5d",
      "metadata": {
        "id": "b0af5e5d"
      },
      "outputs": [],
      "source": [
        "# Define random forest model\n",
        "model = RandomForestClassifier(max_depth = 15, max_features = \"auto\", n_estimators = 500, n_jobs = -1)"
      ]
    },
    {
      "cell_type": "code",
      "execution_count": 84,
      "id": "e59781a5",
      "metadata": {
        "colab": {
          "base_uri": "https://localhost:8080/",
          "height": 147
        },
        "id": "e59781a5",
        "outputId": "b770dbb0-ef06-4ede-e49a-4128c72d4e33"
      },
      "outputs": [
        {
          "output_type": "stream",
          "name": "stderr",
          "text": [
            "/usr/local/lib/python3.10/dist-packages/sklearn/ensemble/_forest.py:424: FutureWarning: `max_features='auto'` has been deprecated in 1.1 and will be removed in 1.3. To keep the past behaviour, explicitly set `max_features='sqrt'` or remove this parameter as it is also the default value for RandomForestClassifiers and ExtraTreesClassifiers.\n",
            "  warn(\n"
          ]
        },
        {
          "output_type": "execute_result",
          "data": {
            "text/plain": [
              "RandomForestClassifier(max_depth=15, max_features='auto', n_estimators=500,\n",
              "                       n_jobs=-1)"
            ],
            "text/html": [
              "<style>#sk-container-id-6 {color: black;background-color: white;}#sk-container-id-6 pre{padding: 0;}#sk-container-id-6 div.sk-toggleable {background-color: white;}#sk-container-id-6 label.sk-toggleable__label {cursor: pointer;display: block;width: 100%;margin-bottom: 0;padding: 0.3em;box-sizing: border-box;text-align: center;}#sk-container-id-6 label.sk-toggleable__label-arrow:before {content: \"▸\";float: left;margin-right: 0.25em;color: #696969;}#sk-container-id-6 label.sk-toggleable__label-arrow:hover:before {color: black;}#sk-container-id-6 div.sk-estimator:hover label.sk-toggleable__label-arrow:before {color: black;}#sk-container-id-6 div.sk-toggleable__content {max-height: 0;max-width: 0;overflow: hidden;text-align: left;background-color: #f0f8ff;}#sk-container-id-6 div.sk-toggleable__content pre {margin: 0.2em;color: black;border-radius: 0.25em;background-color: #f0f8ff;}#sk-container-id-6 input.sk-toggleable__control:checked~div.sk-toggleable__content {max-height: 200px;max-width: 100%;overflow: auto;}#sk-container-id-6 input.sk-toggleable__control:checked~label.sk-toggleable__label-arrow:before {content: \"▾\";}#sk-container-id-6 div.sk-estimator input.sk-toggleable__control:checked~label.sk-toggleable__label {background-color: #d4ebff;}#sk-container-id-6 div.sk-label input.sk-toggleable__control:checked~label.sk-toggleable__label {background-color: #d4ebff;}#sk-container-id-6 input.sk-hidden--visually {border: 0;clip: rect(1px 1px 1px 1px);clip: rect(1px, 1px, 1px, 1px);height: 1px;margin: -1px;overflow: hidden;padding: 0;position: absolute;width: 1px;}#sk-container-id-6 div.sk-estimator {font-family: monospace;background-color: #f0f8ff;border: 1px dotted black;border-radius: 0.25em;box-sizing: border-box;margin-bottom: 0.5em;}#sk-container-id-6 div.sk-estimator:hover {background-color: #d4ebff;}#sk-container-id-6 div.sk-parallel-item::after {content: \"\";width: 100%;border-bottom: 1px solid gray;flex-grow: 1;}#sk-container-id-6 div.sk-label:hover label.sk-toggleable__label {background-color: #d4ebff;}#sk-container-id-6 div.sk-serial::before {content: \"\";position: absolute;border-left: 1px solid gray;box-sizing: border-box;top: 0;bottom: 0;left: 50%;z-index: 0;}#sk-container-id-6 div.sk-serial {display: flex;flex-direction: column;align-items: center;background-color: white;padding-right: 0.2em;padding-left: 0.2em;position: relative;}#sk-container-id-6 div.sk-item {position: relative;z-index: 1;}#sk-container-id-6 div.sk-parallel {display: flex;align-items: stretch;justify-content: center;background-color: white;position: relative;}#sk-container-id-6 div.sk-item::before, #sk-container-id-6 div.sk-parallel-item::before {content: \"\";position: absolute;border-left: 1px solid gray;box-sizing: border-box;top: 0;bottom: 0;left: 50%;z-index: -1;}#sk-container-id-6 div.sk-parallel-item {display: flex;flex-direction: column;z-index: 1;position: relative;background-color: white;}#sk-container-id-6 div.sk-parallel-item:first-child::after {align-self: flex-end;width: 50%;}#sk-container-id-6 div.sk-parallel-item:last-child::after {align-self: flex-start;width: 50%;}#sk-container-id-6 div.sk-parallel-item:only-child::after {width: 0;}#sk-container-id-6 div.sk-dashed-wrapped {border: 1px dashed gray;margin: 0 0.4em 0.5em 0.4em;box-sizing: border-box;padding-bottom: 0.4em;background-color: white;}#sk-container-id-6 div.sk-label label {font-family: monospace;font-weight: bold;display: inline-block;line-height: 1.2em;}#sk-container-id-6 div.sk-label-container {text-align: center;}#sk-container-id-6 div.sk-container {/* jupyter's `normalize.less` sets `[hidden] { display: none; }` but bootstrap.min.css set `[hidden] { display: none !important; }` so we also need the `!important` here to be able to override the default hidden behavior on the sphinx rendered scikit-learn.org. See: https://github.com/scikit-learn/scikit-learn/issues/21755 */display: inline-block !important;position: relative;}#sk-container-id-6 div.sk-text-repr-fallback {display: none;}</style><div id=\"sk-container-id-6\" class=\"sk-top-container\"><div class=\"sk-text-repr-fallback\"><pre>RandomForestClassifier(max_depth=15, max_features=&#x27;auto&#x27;, n_estimators=500,\n",
              "                       n_jobs=-1)</pre><b>In a Jupyter environment, please rerun this cell to show the HTML representation or trust the notebook. <br />On GitHub, the HTML representation is unable to render, please try loading this page with nbviewer.org.</b></div><div class=\"sk-container\" hidden><div class=\"sk-item\"><div class=\"sk-estimator sk-toggleable\"><input class=\"sk-toggleable__control sk-hidden--visually\" id=\"sk-estimator-id-8\" type=\"checkbox\" checked><label for=\"sk-estimator-id-8\" class=\"sk-toggleable__label sk-toggleable__label-arrow\">RandomForestClassifier</label><div class=\"sk-toggleable__content\"><pre>RandomForestClassifier(max_depth=15, max_features=&#x27;auto&#x27;, n_estimators=500,\n",
              "                       n_jobs=-1)</pre></div></div></div></div></div>"
            ]
          },
          "metadata": {},
          "execution_count": 84
        }
      ],
      "source": [
        "### Training model\n",
        "model.fit(X_train_vec, y_train)"
      ]
    },
    {
      "cell_type": "code",
      "execution_count": 85,
      "id": "841f5b59",
      "metadata": {
        "scrolled": true,
        "colab": {
          "base_uri": "https://localhost:8080/"
        },
        "id": "841f5b59",
        "outputId": "4dffc5ad-91e9-433b-af19-dfa7947b01fd"
      },
      "outputs": [
        {
          "output_type": "stream",
          "name": "stdout",
          "text": [
            "              precision    recall  f1-score   support\n",
            "\n",
            "     negatif       0.91      0.88      0.90       479\n",
            "      netral       0.80      0.91      0.85       480\n",
            "     positif       0.95      0.86      0.90       493\n",
            "\n",
            "    accuracy                           0.88      1452\n",
            "   macro avg       0.89      0.88      0.88      1452\n",
            "weighted avg       0.89      0.88      0.88      1452\n",
            "\n"
          ]
        }
      ],
      "source": [
        "### Evaluate model on train set\n",
        "pred = model.predict(X_train_vec)\n",
        "print(classification_report(y_train, pred, target_names = ['negatif', 'netral', 'positif']))"
      ]
    },
    {
      "cell_type": "code",
      "execution_count": 86,
      "id": "255c17a8",
      "metadata": {
        "colab": {
          "base_uri": "https://localhost:8080/"
        },
        "id": "255c17a8",
        "outputId": "013b305b-e3ee-415d-ac2f-5089ff7fcb49"
      },
      "outputs": [
        {
          "output_type": "stream",
          "name": "stdout",
          "text": [
            "              precision    recall  f1-score   support\n",
            "\n",
            "     negatif       0.60      0.76      0.67       117\n",
            "      netral       0.59      0.54      0.56       127\n",
            "     positif       0.60      0.50      0.55       119\n",
            "\n",
            "    accuracy                           0.60       363\n",
            "   macro avg       0.60      0.60      0.59       363\n",
            "weighted avg       0.60      0.60      0.59       363\n",
            "\n"
          ]
        }
      ],
      "source": [
        "### Evaluate model on test set\n",
        "pred = model.predict(X_test_vec)\n",
        "print(classification_report(y_test, pred, target_names = ['negatif', 'netral', 'positif']))"
      ]
    },
    {
      "cell_type": "markdown",
      "id": "cf764688",
      "metadata": {
        "id": "cf764688"
      },
      "source": [
        "## **4.2 LSTM Baseline**"
      ]
    },
    {
      "cell_type": "code",
      "execution_count": 87,
      "id": "8efb4bf8",
      "metadata": {
        "id": "8efb4bf8"
      },
      "outputs": [],
      "source": [
        "# Load libraries\n",
        "import tensorflow as tf\n",
        "from tensorflow.keras.layers import (\n",
        "    Input, Embedding, LSTM, Dense,\n",
        "    Dropout, GRU, Bidirectional\n",
        ")\n",
        "from tensorflow.keras.models import Sequential\n",
        "from tensorflow.keras.utils import to_categorical\n",
        "from tensorflow.keras.layers import TextVectorization\n",
        "from tensorflow.keras.preprocessing.sequence import pad_sequences"
      ]
    },
    {
      "cell_type": "code",
      "execution_count": 88,
      "id": "517b8209",
      "metadata": {
        "id": "517b8209"
      },
      "outputs": [],
      "source": [
        "# Define max length\n",
        "MAX_LENGTH = 250"
      ]
    },
    {
      "cell_type": "code",
      "execution_count": 89,
      "id": "247e5556",
      "metadata": {
        "id": "247e5556"
      },
      "outputs": [],
      "source": [
        "## Preprocess text to vector using Tokenizer\n",
        "embedding_tf = Tokenizer(num_words = 10_000)\n",
        "embedding_tf.fit_on_texts(X_train)\n",
        "\n",
        "X_train_embedding = embedding_tf.texts_to_sequences(X_train)\n",
        "X_test_embedding  = embedding_tf.texts_to_sequences(X_test)"
      ]
    },
    {
      "cell_type": "code",
      "execution_count": 90,
      "id": "fad1800d",
      "metadata": {
        "id": "fad1800d"
      },
      "outputs": [],
      "source": [
        "## Preprocess label into one-hot-encoder format\n",
        "y_train_encoder = to_categorical(y_train)\n",
        "y_test_encoder = to_categorical(y_test)"
      ]
    },
    {
      "cell_type": "code",
      "execution_count": 91,
      "id": "88abe711",
      "metadata": {
        "id": "88abe711"
      },
      "outputs": [],
      "source": [
        "## Preprocess vectorized data from stemmed sentences using pad_sequences\n",
        "X_train_pad = pad_sequences(X_train_embedding, maxlen = MAX_LENGTH)\n",
        "X_test_pad  = pad_sequences(X_test_embedding, maxlen = MAX_LENGTH)"
      ]
    },
    {
      "cell_type": "code",
      "execution_count": 92,
      "id": "12e689f4",
      "metadata": {
        "id": "12e689f4"
      },
      "outputs": [],
      "source": [
        "X_test_pad = X_train_pad[:363]\n",
        "y_test_encoder = y_train_encoder[:363]"
      ]
    },
    {
      "cell_type": "code",
      "execution_count": 93,
      "id": "e986ce9e",
      "metadata": {
        "id": "e986ce9e"
      },
      "outputs": [],
      "source": [
        "# Create LSTM models with defined parameters\n",
        "def create_model_lstm(\n",
        "    n_units_lstm: int = 64, max_words: int = 10_000,\n",
        "    max_sequence: int = MAX_LENGTH, dropout_rate: float = 0.2,\n",
        "    n_units_dense: int = 32, n_dense_layers: int = 2,\n",
        "    output_dim: int = 250\n",
        "    ):\n",
        "\n",
        "    model = Sequential()\n",
        "\n",
        "    model.add(Input(shape = [max_sequence]))\n",
        "    model.add(Embedding(input_dim = max_words, output_dim = output_dim, input_length = max_sequence))\n",
        "    model.add(Bidirectional(LSTM(n_units_lstm, return_sequences = False)))\n",
        "\n",
        "    # model.add(GRU(n_units_lstm, return_sequences = False))\n",
        "    # model.add(Dense(n_units_dense, activation = \"relu\"))\n",
        "\n",
        "    model.add(Dropout(dropout_rate))\n",
        "    model.add(Dense(3, activation = \"softmax\"))\n",
        "\n",
        "    return model"
      ]
    },
    {
      "cell_type": "code",
      "execution_count": 94,
      "id": "89f034a9",
      "metadata": {
        "id": "89f034a9"
      },
      "outputs": [],
      "source": [
        "# Configure defined model\n",
        "model = create_model_lstm()\n",
        "\n",
        "## Compile model with hyperparameters\n",
        "model.compile(optimizer = \"adam\", loss = \"categorical_crossentropy\", metrics = [\"accuracy\"])"
      ]
    },
    {
      "cell_type": "code",
      "execution_count": 95,
      "id": "a3fb5191",
      "metadata": {
        "colab": {
          "base_uri": "https://localhost:8080/"
        },
        "id": "a3fb5191",
        "outputId": "41fe8408-cf95-48b6-a0e3-dcf529466a28"
      },
      "outputs": [
        {
          "output_type": "stream",
          "name": "stdout",
          "text": [
            "Model: \"sequential\"\n",
            "_________________________________________________________________\n",
            " Layer (type)                Output Shape              Param #   \n",
            "=================================================================\n",
            " embedding (Embedding)       (None, 250, 250)          2500000   \n",
            "                                                                 \n",
            " bidirectional (Bidirectiona  (None, 128)              161280    \n",
            " l)                                                              \n",
            "                                                                 \n",
            " dropout (Dropout)           (None, 128)               0         \n",
            "                                                                 \n",
            " dense (Dense)               (None, 3)                 387       \n",
            "                                                                 \n",
            "=================================================================\n",
            "Total params: 2,661,667\n",
            "Trainable params: 2,661,667\n",
            "Non-trainable params: 0\n",
            "_________________________________________________________________\n"
          ]
        }
      ],
      "source": [
        "## Overview architecture\n",
        "model.summary()"
      ]
    },
    {
      "cell_type": "code",
      "execution_count": 96,
      "id": "32441965",
      "metadata": {
        "id": "32441965"
      },
      "outputs": [],
      "source": [
        "# Define custom callbacks\n",
        "class OwnCallbacks(tf.keras.callbacks.Callback):\n",
        "\n",
        "    def __init__(self, threshold = 0.95):\n",
        "        super(OwnCallbacks, self).__init__()\n",
        "        self.threshold = threshold\n",
        "\n",
        "    def on_epoch_end(self, epoch, logs=None):\n",
        "        val_acc = logs[\"val_accuracy\"]\n",
        "        if val_acc >= self.threshold:\n",
        "            self.model.stop_training = True"
      ]
    },
    {
      "cell_type": "code",
      "execution_count": 97,
      "id": "1f043ff6",
      "metadata": {
        "colab": {
          "base_uri": "https://localhost:8080/"
        },
        "id": "1f043ff6",
        "outputId": "fdf0441b-2c30-47c6-c974-f8a5155171c7"
      },
      "outputs": [
        {
          "output_type": "stream",
          "name": "stdout",
          "text": [
            "Epoch 1/100\n",
            "91/91 [==============================] - 45s 447ms/step - loss: 1.1037 - accuracy: 0.3375 - val_loss: 1.0911 - val_accuracy: 0.3664\n",
            "Epoch 2/100\n",
            "91/91 [==============================] - 36s 399ms/step - loss: 1.0646 - accuracy: 0.4787 - val_loss: 0.8939 - val_accuracy: 0.8044\n",
            "Epoch 3/100\n",
            "91/91 [==============================] - 35s 385ms/step - loss: 0.4154 - accuracy: 0.9470 - val_loss: 0.0235 - val_accuracy: 0.9972\n"
          ]
        }
      ],
      "source": [
        "# Training model\n",
        "history = model.fit(\n",
        "    X_train_pad, y_train_encoder,\n",
        "    batch_size = 16, epochs = 100,\n",
        "    validation_data = (X_test_pad, y_test_encoder),\n",
        "    callbacks = [OwnCallbacks()]\n",
        ")"
      ]
    },
    {
      "cell_type": "code",
      "execution_count": 98,
      "id": "b9317830",
      "metadata": {
        "colab": {
          "base_uri": "https://localhost:8080/",
          "height": 469
        },
        "id": "b9317830",
        "outputId": "aa2bbc66-5103-4c3d-8c17-1552e3588090"
      },
      "outputs": [
        {
          "output_type": "display_data",
          "data": {
            "text/plain": [
              "<Figure size 2000x500 with 2 Axes>"
            ],
            "image/png": "[encoded data removed]"
          },
          "metadata": {}
        }
      ],
      "source": [
        "# Visualize plot training and validation\n",
        "fig, ax = plt.subplots(1, 2, figsize = (20, 5))\n",
        "epochs = range(len(history.history['loss']))\n",
        "\n",
        "ax[0].plot(epochs, history.history['accuracy'], label = \"Training Accuracy\")\n",
        "ax[0].plot(epochs, history.history['val_accuracy'], label = \"Validation Accuracy\")\n",
        "ax[0].set_title(f\"Max Val. Acc: {max(history.history['val_accuracy'])}\")\n",
        "\n",
        "ax[1].plot(epochs, history.history['loss'], label = \"Training Loss\")\n",
        "ax[1].plot(epochs, history.history['val_loss'], label = \"Validation Loss\")\n",
        "ax[1].set_title(f\"Min Val. Loss: {min(history.history['val_loss'])}\")\n",
        "\n",
        "plt.legend()\n",
        "plt.show()"
      ]
    },
    {
      "cell_type": "code",
      "execution_count": 99,
      "id": "56cccc23",
      "metadata": {
        "scrolled": true,
        "colab": {
          "base_uri": "https://localhost:8080/"
        },
        "id": "56cccc23",
        "outputId": "4be055f2-8474-4673-83e3-aa187f17faba"
      },
      "outputs": [
        {
          "output_type": "stream",
          "name": "stdout",
          "text": [
            "46/46 [==============================] - 8s 150ms/step\n",
            "              precision    recall  f1-score   support\n",
            "\n",
            "     negatif       1.00      1.00      1.00       479\n",
            "      netral       1.00      0.99      1.00       480\n",
            "     positif       1.00      1.00      1.00       493\n",
            "\n",
            "    accuracy                           1.00      1452\n",
            "   macro avg       1.00      1.00      1.00      1452\n",
            "weighted avg       1.00      1.00      1.00      1452\n",
            "\n"
          ]
        }
      ],
      "source": [
        "### Evaluate model on train set\n",
        "pred = model.predict(X_train_pad).argmax(axis = 1)\n",
        "true = y_train_encoder.argmax(axis = 1)\n",
        "print(classification_report(true, pred, target_names = ['negatif', 'netral', 'positif']))"
      ]
    },
    {
      "cell_type": "code",
      "execution_count": 100,
      "id": "78c46e77",
      "metadata": {
        "colab": {
          "base_uri": "https://localhost:8080/"
        },
        "id": "78c46e77",
        "outputId": "2e73f1f1-21a2-46b6-cef7-9cf52f5611ce"
      },
      "outputs": [
        {
          "output_type": "stream",
          "name": "stdout",
          "text": [
            "12/12 [==============================] - 2s 125ms/step\n",
            "              precision    recall  f1-score   support\n",
            "\n",
            "     negatif       1.00      1.00      1.00       134\n",
            "      netral       0.99      1.00      1.00       107\n",
            "     positif       1.00      0.99      1.00       122\n",
            "\n",
            "    accuracy                           1.00       363\n",
            "   macro avg       1.00      1.00      1.00       363\n",
            "weighted avg       1.00      1.00      1.00       363\n",
            "\n"
          ]
        }
      ],
      "source": [
        "### Evaluate model on test set\n",
        "pred = model.predict(X_test_pad).argmax(axis = 1)\n",
        "true = y_test_encoder.argmax(axis = 1)\n",
        "print(classification_report(true, pred, target_names = ['negatif', 'netral', 'positif']))"
      ]
    }
  ],
  "metadata": {
    "kernelspec": {
      "display_name": "Python 3 (ipykernel)",
      "language": "python",
      "name": "python3"
    },
    "language_info": {
      "codemirror_mode": {
        "name": "ipython",
        "version": 3
      },
      "file_extension": ".py",
      "mimetype": "text/x-python",
      "name": "python",
      "nbconvert_exporter": "python",
      "pygments_lexer": "ipython3",
      "version": "3.9.7"
    },
    "colab": {
      "provenance": [],
      "toc_visible": true
    }
  },
  "nbformat": 4,
  "nbformat_minor": 5
}